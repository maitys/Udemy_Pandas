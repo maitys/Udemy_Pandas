{
 "cells": [
  {
   "cell_type": "markdown",
   "metadata": {},
   "source": [
    "## Dates and Times"
   ]
  },
  {
   "cell_type": "markdown",
   "metadata": {},
   "source": [
    "## Table of Contents\n",
    "\n",
    "<ul>\n",
    "    <li><a href=\"#1\">1. Intro to the Working with Dates and Times Module</a></li>\n",
    "    <li><a href=\"#2\">2. Review of Python's datetime Module</a></li>\n",
    "    <li><a href=\"#3\">3. The pandas Timestamp Object</a></li>\n",
    "    <li><a href=\"#4\">4. The pandas DateTimeIndex Object</a></li>\n",
    "    <li><a href=\"#5\">5. The pd.datetime() Method</a></li>\n",
    "    <li><a href=\"#6\">6. Create Range of Dates with the pd.date_range() Method</a></li>\n",
    "    <li><a href=\"#7\">7. The .dt Accessor</a></li>\n",
    "    <li><a href=\"#8\">8. Install pandas-datareader Library</a></li>\n",
    "    <li><a href=\"#9\">9. Import Financial Data Set with pandas_datareader Library</a></li>\n",
    "    <li><a href=\"#10\">10. Selecting Rows from a DataFrame with DateTimeIndex</a></li>\n",
    "    <li><a href=\"#11\">11. Timestamp Object Attributes</a></li>\n",
    "    <li><a href=\"#12\">12. The .truncate() Method</a></li>\n",
    "    <li><a href=\"#13\">13. pd.DateOffset Objects</a></li>\n",
    "    <li><a href=\"#14\">14. More fun with pd.DateOffset Objects</a></li>\n",
    "    <li><a href=\"#15\">15. The pandas Timedelta Object</a></li>\n",
    "    <li><a href=\"#16\">16. Timedeltas in a Dataset</a></li>\n",
    "</ul>"
   ]
  },
  {
   "cell_type": "code",
   "execution_count": 1,
   "metadata": {},
   "outputs": [
    {
     "data": {
      "text/html": [
       "<style type=\"text/css\">\n",
       "table.dataframe td, table.dataframe th {\n",
       "    border: 1.5px  black solid !important;\n",
       "  color: black !important;\n",
       "}\n"
      ],
      "text/plain": [
       "<IPython.core.display.HTML object>"
      ]
     },
     "metadata": {},
     "output_type": "display_data"
    }
   ],
   "source": [
    "%%HTML\n",
    "<style type=\"text/css\">\n",
    "table.dataframe td, table.dataframe th {\n",
    "    border: 1.5px  black solid !important;\n",
    "  color: black !important;\n",
    "}"
   ]
  },
  {
   "cell_type": "code",
   "execution_count": 2,
   "metadata": {},
   "outputs": [
    {
     "data": {
      "text/html": [
       "<style>.container { width:78% !important; }</style>"
      ],
      "text/plain": [
       "<IPython.core.display.HTML object>"
      ]
     },
     "metadata": {},
     "output_type": "display_data"
    },
    {
     "data": {
      "text/plain": [
       "'0.25.1'"
      ]
     },
     "execution_count": 2,
     "metadata": {},
     "output_type": "execute_result"
    }
   ],
   "source": [
    "#To show multiple outputs and misc. changes\n",
    "from IPython.core.interactiveshell import InteractiveShell\n",
    "InteractiveShell.ast_node_interactivity = \"all\" # Show all results without print\n",
    "from IPython.core.display import display, HTML\n",
    "display(HTML(\"<style>.container { width:78% !important; }</style>\"))\n",
    "import warnings\n",
    "warnings.filterwarnings(\"ignore\")\n",
    "\n",
    "#Load Packages\n",
    "import numpy as np\n",
    "import pandas as pd\n",
    "import matplotlib.pyplot as plt\n",
    "import datetime as dt\n",
    "from pandas_datareader import data\n",
    "from pandas.tseries import *\n",
    "pd.__version__"
   ]
  },
  {
   "cell_type": "markdown",
   "metadata": {},
   "source": [
    "<a id='1'></a>\n",
    "### 1. Intro to the Working with Dates and Times Module"
   ]
  },
  {
   "cell_type": "markdown",
   "metadata": {},
   "source": [
    "<a id='2'></a>\n",
    "### 2. Review of Python's `datetime` Module"
   ]
  },
  {
   "cell_type": "code",
   "execution_count": 3,
   "metadata": {},
   "outputs": [],
   "source": [
    "birthday = dt.date(1984, 6, 27) #year, month, day"
   ]
  },
  {
   "cell_type": "code",
   "execution_count": 4,
   "metadata": {},
   "outputs": [
    {
     "data": {
      "text/plain": [
       "1984"
      ]
     },
     "execution_count": 4,
     "metadata": {},
     "output_type": "execute_result"
    },
    {
     "data": {
      "text/plain": [
       "6"
      ]
     },
     "execution_count": 4,
     "metadata": {},
     "output_type": "execute_result"
    },
    {
     "data": {
      "text/plain": [
       "27"
      ]
     },
     "execution_count": 4,
     "metadata": {},
     "output_type": "execute_result"
    }
   ],
   "source": [
    "birthday.year\n",
    "birthday.month\n",
    "birthday.day"
   ]
  },
  {
   "cell_type": "code",
   "execution_count": 5,
   "metadata": {},
   "outputs": [],
   "source": [
    "birthday = dt.datetime(1984, 6, 27, 18, 25, 59) #year, month, day[, hour[, minute[, second[, microsecond[,tzinfo]]]]]"
   ]
  },
  {
   "cell_type": "code",
   "execution_count": 6,
   "metadata": {},
   "outputs": [
    {
     "data": {
      "text/plain": [
       "1984"
      ]
     },
     "execution_count": 6,
     "metadata": {},
     "output_type": "execute_result"
    },
    {
     "data": {
      "text/plain": [
       "6"
      ]
     },
     "execution_count": 6,
     "metadata": {},
     "output_type": "execute_result"
    },
    {
     "data": {
      "text/plain": [
       "27"
      ]
     },
     "execution_count": 6,
     "metadata": {},
     "output_type": "execute_result"
    },
    {
     "data": {
      "text/plain": [
       "18"
      ]
     },
     "execution_count": 6,
     "metadata": {},
     "output_type": "execute_result"
    },
    {
     "data": {
      "text/plain": [
       "25"
      ]
     },
     "execution_count": 6,
     "metadata": {},
     "output_type": "execute_result"
    },
    {
     "data": {
      "text/plain": [
       "59"
      ]
     },
     "execution_count": 6,
     "metadata": {},
     "output_type": "execute_result"
    }
   ],
   "source": [
    "birthday.year\n",
    "birthday.month\n",
    "birthday.day\n",
    "birthday.hour\n",
    "birthday.minute\n",
    "birthday.second"
   ]
  },
  {
   "cell_type": "code",
   "execution_count": 7,
   "metadata": {},
   "outputs": [
    {
     "data": {
      "text/plain": [
       "datetime.date(1984, 6, 27)"
      ]
     },
     "execution_count": 7,
     "metadata": {},
     "output_type": "execute_result"
    },
    {
     "data": {
      "text/plain": [
       "datetime.datetime(1984, 6, 27, 18, 25, 59)"
      ]
     },
     "execution_count": 7,
     "metadata": {},
     "output_type": "execute_result"
    },
    {
     "data": {
      "text/plain": [
       "'1984-06-27 18:25:59'"
      ]
     },
     "execution_count": 7,
     "metadata": {},
     "output_type": "execute_result"
    },
    {
     "data": {
      "text/plain": [
       "'1984-06-27'"
      ]
     },
     "execution_count": 7,
     "metadata": {},
     "output_type": "execute_result"
    }
   ],
   "source": [
    "dt.date(1984, 6, 27)\n",
    "dt.datetime(1984, 6, 27, 18, 25, 59)\n",
    "str(dt.datetime(1984, 6, 27, 18, 25, 59))\n",
    "str(dt.date(1984, 6, 27))"
   ]
  },
  {
   "cell_type": "markdown",
   "metadata": {},
   "source": [
    "<a id='3'></a>\n",
    "### 3.  The pandas `Timestamp` Object"
   ]
  },
  {
   "cell_type": "code",
   "execution_count": 8,
   "metadata": {},
   "outputs": [
    {
     "data": {
      "text/plain": [
       "Timestamp('2015-03-31 00:00:00')"
      ]
     },
     "execution_count": 8,
     "metadata": {},
     "output_type": "execute_result"
    },
    {
     "data": {
      "text/plain": [
       "Timestamp('2015-03-31 00:00:00')"
      ]
     },
     "execution_count": 8,
     "metadata": {},
     "output_type": "execute_result"
    },
    {
     "data": {
      "text/plain": [
       "Timestamp('2015-03-31 00:00:00')"
      ]
     },
     "execution_count": 8,
     "metadata": {},
     "output_type": "execute_result"
    },
    {
     "data": {
      "text/plain": [
       "Timestamp('2015-03-31 00:00:00')"
      ]
     },
     "execution_count": 8,
     "metadata": {},
     "output_type": "execute_result"
    },
    {
     "data": {
      "text/plain": [
       "Timestamp('2015-03-31 08:35:15')"
      ]
     },
     "execution_count": 8,
     "metadata": {},
     "output_type": "execute_result"
    },
    {
     "data": {
      "text/plain": [
       "Timestamp('2015-03-31 20:35:15')"
      ]
     },
     "execution_count": 8,
     "metadata": {},
     "output_type": "execute_result"
    }
   ],
   "source": [
    "pd.Timestamp('2015-03-31')\n",
    "pd.Timestamp('2015/03/31')\n",
    "pd.Timestamp('2015, 03, 31')\n",
    "pd.Timestamp('03, 31, 2015')\n",
    "pd.Timestamp('2015-03-31 08:35:15')\n",
    "pd.Timestamp('2015-03-31 08:35:15 PM')"
   ]
  },
  {
   "cell_type": "code",
   "execution_count": 9,
   "metadata": {},
   "outputs": [
    {
     "data": {
      "text/plain": [
       "Timestamp('1984-06-27 00:00:00')"
      ]
     },
     "execution_count": 9,
     "metadata": {},
     "output_type": "execute_result"
    },
    {
     "data": {
      "text/plain": [
       "Timestamp('1984-06-27 18:25:59')"
      ]
     },
     "execution_count": 9,
     "metadata": {},
     "output_type": "execute_result"
    }
   ],
   "source": [
    "pd.Timestamp(dt.date(1984, 6, 27))\n",
    "pd.Timestamp(dt.datetime(1984, 6, 27, 18, 25, 59))"
   ]
  },
  {
   "cell_type": "markdown",
   "metadata": {},
   "source": [
    "<a id='4'></a>\n",
    "### 4. The pandas `DateTimeIndex` Object"
   ]
  },
  {
   "cell_type": "code",
   "execution_count": 10,
   "metadata": {},
   "outputs": [
    {
     "data": {
      "text/plain": [
       "DatetimeIndex(['2016-01-02', '2016-04-12', '2009-09-07', '2019-10-30'], dtype='datetime64[ns]', freq=None)"
      ]
     },
     "execution_count": 10,
     "metadata": {},
     "output_type": "execute_result"
    }
   ],
   "source": [
    "dates = [\"2016-01-02\", \"2016-04-12\", \"2009-09-07\", \"2019-10-30\"]\n",
    "pd.DatetimeIndex(data=dates)"
   ]
  },
  {
   "cell_type": "code",
   "execution_count": 11,
   "metadata": {},
   "outputs": [
    {
     "data": {
      "text/plain": [
       "DatetimeIndex(['1984-06-27', '1985-06-27', '1986-06-27'], dtype='datetime64[ns]', freq=None)"
      ]
     },
     "execution_count": 11,
     "metadata": {},
     "output_type": "execute_result"
    }
   ],
   "source": [
    "dates = [dt.date(1984, 6, 27), dt.date(1985, 6, 27), dt.date(1986, 6, 27)]\n",
    "pd.DatetimeIndex(data=dates)"
   ]
  },
  {
   "cell_type": "code",
   "execution_count": 12,
   "metadata": {},
   "outputs": [
    {
     "data": {
      "text/plain": [
       "1984-06-27    100\n",
       "1985-06-27    200\n",
       "1986-06-27    300\n",
       "dtype: int64"
      ]
     },
     "execution_count": 12,
     "metadata": {},
     "output_type": "execute_result"
    }
   ],
   "source": [
    "values = [100, 200, 300]\n",
    "dates = [dt.date(1984, 6, 27), dt.date(1985, 6, 27), dt.date(1986, 6, 27)]\n",
    "dt_index = pd.DatetimeIndex(data=dates)\n",
    "pd.Series(data=values, index=dt_index)"
   ]
  },
  {
   "cell_type": "markdown",
   "metadata": {},
   "source": [
    "<a id='5'></a>\n",
    "### 5. The `pd.datetime()` Method"
   ]
  },
  {
   "cell_type": "code",
   "execution_count": 13,
   "metadata": {},
   "outputs": [
    {
     "data": {
      "text/plain": [
       "Timestamp('2015-03-31 00:00:00')"
      ]
     },
     "execution_count": 13,
     "metadata": {},
     "output_type": "execute_result"
    },
    {
     "data": {
      "text/plain": [
       "Timestamp('2015-03-31 20:35:15')"
      ]
     },
     "execution_count": 13,
     "metadata": {},
     "output_type": "execute_result"
    },
    {
     "data": {
      "text/plain": [
       "Timestamp('1984-06-27 00:00:00')"
      ]
     },
     "execution_count": 13,
     "metadata": {},
     "output_type": "execute_result"
    },
    {
     "data": {
      "text/plain": [
       "Timestamp('1984-06-27 18:25:59')"
      ]
     },
     "execution_count": 13,
     "metadata": {},
     "output_type": "execute_result"
    },
    {
     "data": {
      "text/plain": [
       "DatetimeIndex(['2015-03-31', '2015-02-08', '2016-01-01', '1996-07-04'], dtype='datetime64[ns]', freq=None)"
      ]
     },
     "execution_count": 13,
     "metadata": {},
     "output_type": "execute_result"
    }
   ],
   "source": [
    "pd.to_datetime('2015-03-31')\n",
    "pd.to_datetime('2015-03-31 08:35:15 PM')\n",
    "pd.to_datetime(dt.date(1984, 6, 27))\n",
    "pd.to_datetime(dt.datetime(1984, 6, 27, 18, 25, 59))\n",
    "pd.to_datetime([\"2015-03-31\", \"2015/02/08\", \"2016\", \"July 4th 1996\"])"
   ]
  },
  {
   "cell_type": "code",
   "execution_count": 14,
   "metadata": {},
   "outputs": [
    {
     "data": {
      "text/plain": [
       "0           2015-03-31\n",
       "1           2015/02/08\n",
       "2                 2016\n",
       "3    July 4th 1996 8PM\n",
       "dtype: object"
      ]
     },
     "execution_count": 14,
     "metadata": {},
     "output_type": "execute_result"
    }
   ],
   "source": [
    "times = pd.Series([\"2015-03-31\", \"2015/02/08\", \"2016\", \"July 4th 1996 8PM\"])\n",
    "times"
   ]
  },
  {
   "cell_type": "code",
   "execution_count": 15,
   "metadata": {},
   "outputs": [
    {
     "data": {
      "text/plain": [
       "0   2015-03-31 00:00:00\n",
       "1   2015-02-08 00:00:00\n",
       "2   2016-01-01 00:00:00\n",
       "3   1996-07-04 20:00:00\n",
       "dtype: datetime64[ns]"
      ]
     },
     "execution_count": 15,
     "metadata": {},
     "output_type": "execute_result"
    }
   ],
   "source": [
    "pd.to_datetime(times)"
   ]
  },
  {
   "cell_type": "code",
   "execution_count": 16,
   "metadata": {},
   "outputs": [
    {
     "data": {
      "text/plain": [
       "0    July 4th 1996\n",
       "1       10/12/1991\n",
       "2            Hello\n",
       "3       2015-02-31\n",
       "dtype: object"
      ]
     },
     "execution_count": 16,
     "metadata": {},
     "output_type": "execute_result"
    }
   ],
   "source": [
    "times = pd.Series([\"July 4th 1996\", \"10/12/1991\", \"Hello\", \"2015-02-31\"])\n",
    "times"
   ]
  },
  {
   "cell_type": "code",
   "execution_count": 17,
   "metadata": {},
   "outputs": [
    {
     "data": {
      "text/plain": [
       "0   1996-07-04\n",
       "1   1991-10-12\n",
       "2          NaT\n",
       "3          NaT\n",
       "dtype: datetime64[ns]"
      ]
     },
     "execution_count": 17,
     "metadata": {},
     "output_type": "execute_result"
    },
    {
     "data": {
      "text/plain": [
       "0    July 4th 1996\n",
       "1       10/12/1991\n",
       "2            Hello\n",
       "3       2015-02-31\n",
       "dtype: object"
      ]
     },
     "execution_count": 17,
     "metadata": {},
     "output_type": "execute_result"
    }
   ],
   "source": [
    "pd.to_datetime(times, errors='coerce')\n",
    "pd.to_datetime(times, errors='ignore')"
   ]
  },
  {
   "cell_type": "code",
   "execution_count": 18,
   "metadata": {},
   "outputs": [
    {
     "data": {
      "text/plain": [
       "DatetimeIndex(['2020-01-08 21:36:06', '2020-01-09 19:59:59'], dtype='datetime64[ns]', freq=None)"
      ]
     },
     "execution_count": 18,
     "metadata": {},
     "output_type": "execute_result"
    }
   ],
   "source": [
    "pd.to_datetime(arg=[1578519366, 1578599999], unit='s')"
   ]
  },
  {
   "cell_type": "markdown",
   "metadata": {},
   "source": [
    "<a id='6'></a>\n",
    "### 6. Create Range of Dates with the `pd.date_range()` Method"
   ]
  },
  {
   "cell_type": "code",
   "execution_count": 19,
   "metadata": {},
   "outputs": [
    {
     "data": {
      "text/plain": [
       "DatetimeIndex(['2016-01-01', '2016-01-02', '2016-01-03', '2016-01-04',\n",
       "               '2016-01-05', '2016-01-06', '2016-01-07', '2016-01-08',\n",
       "               '2016-01-09', '2016-01-10'],\n",
       "              dtype='datetime64[ns]', freq='D')"
      ]
     },
     "execution_count": 19,
     "metadata": {},
     "output_type": "execute_result"
    }
   ],
   "source": [
    "pd.date_range(start='2016-01-01', end='2016-01-10', freq='D')"
   ]
  },
  {
   "cell_type": "code",
   "execution_count": 20,
   "metadata": {},
   "outputs": [
    {
     "data": {
      "text/plain": [
       "pandas.core.indexes.datetimes.DatetimeIndex"
      ]
     },
     "execution_count": 20,
     "metadata": {},
     "output_type": "execute_result"
    },
    {
     "data": {
      "text/plain": [
       "pandas._libs.tslibs.timestamps.Timestamp"
      ]
     },
     "execution_count": 20,
     "metadata": {},
     "output_type": "execute_result"
    }
   ],
   "source": [
    "times = pd.date_range(start='2016-01-01', end='2016-01-10', freq='D')\n",
    "type(times)\n",
    "type(times[0])"
   ]
  },
  {
   "cell_type": "code",
   "execution_count": 21,
   "metadata": {},
   "outputs": [
    {
     "data": {
      "text/plain": [
       "DatetimeIndex(['2016-01-01 00:00:00', '2016-01-01 01:00:00',\n",
       "               '2016-01-01 02:00:00', '2016-01-01 03:00:00',\n",
       "               '2016-01-01 04:00:00', '2016-01-01 05:00:00',\n",
       "               '2016-01-01 06:00:00', '2016-01-01 07:00:00',\n",
       "               '2016-01-01 08:00:00', '2016-01-01 09:00:00',\n",
       "               ...\n",
       "               '2016-01-09 15:00:00', '2016-01-09 16:00:00',\n",
       "               '2016-01-09 17:00:00', '2016-01-09 18:00:00',\n",
       "               '2016-01-09 19:00:00', '2016-01-09 20:00:00',\n",
       "               '2016-01-09 21:00:00', '2016-01-09 22:00:00',\n",
       "               '2016-01-09 23:00:00', '2016-01-10 00:00:00'],\n",
       "              dtype='datetime64[ns]', length=217, freq='H')"
      ]
     },
     "execution_count": 21,
     "metadata": {},
     "output_type": "execute_result"
    },
    {
     "data": {
      "text/plain": [
       "DatetimeIndex(['2016-01-01 00:00:00', '2016-01-01 20:00:00',\n",
       "               '2016-01-02 16:00:00', '2016-01-03 12:00:00',\n",
       "               '2016-01-04 08:00:00', '2016-01-05 04:00:00',\n",
       "               '2016-01-06 00:00:00', '2016-01-06 20:00:00',\n",
       "               '2016-01-07 16:00:00', '2016-01-08 12:00:00',\n",
       "               '2016-01-09 08:00:00'],\n",
       "              dtype='datetime64[ns]', freq='20H')"
      ]
     },
     "execution_count": 21,
     "metadata": {},
     "output_type": "execute_result"
    },
    {
     "data": {
      "text/plain": [
       "DatetimeIndex(['2016-01-01', '2016-01-02', '2016-01-03', '2016-01-04',\n",
       "               '2016-01-05', '2016-01-06', '2016-01-07', '2016-01-08',\n",
       "               '2016-01-09', '2016-01-10'],\n",
       "              dtype='datetime64[ns]', freq='D')"
      ]
     },
     "execution_count": 21,
     "metadata": {},
     "output_type": "execute_result"
    },
    {
     "data": {
      "text/plain": [
       "DatetimeIndex(['2016-01-01', '2016-01-03', '2016-01-05', '2016-01-07',\n",
       "               '2016-01-09'],\n",
       "              dtype='datetime64[ns]', freq='2D')"
      ]
     },
     "execution_count": 21,
     "metadata": {},
     "output_type": "execute_result"
    },
    {
     "data": {
      "text/plain": [
       "DatetimeIndex(['2016-01-01', '2016-01-03', '2016-01-05', '2016-01-07',\n",
       "               '2016-01-09', '2016-01-11'],\n",
       "              dtype='datetime64[ns]', freq='2D')"
      ]
     },
     "execution_count": 21,
     "metadata": {},
     "output_type": "execute_result"
    },
    {
     "data": {
      "text/plain": [
       "DatetimeIndex(['2016-01-01', '2016-01-04', '2016-01-05', '2016-01-06',\n",
       "               '2016-01-07', '2016-01-08'],\n",
       "              dtype='datetime64[ns]', freq='B')"
      ]
     },
     "execution_count": 21,
     "metadata": {},
     "output_type": "execute_result"
    }
   ],
   "source": [
    "pd.date_range(start='2016-01-01', end='2016-01-10', freq='H') # hour\n",
    "pd.date_range(start='2016-01-01', end='2016-01-10', freq='20H') # 20hour\n",
    "pd.date_range(start='2016-01-01', end='2016-01-10', freq='1D')\n",
    "pd.date_range(start='2016-01-01', end='2016-01-10', freq='2D')\n",
    "pd.date_range(start='2016-01-01', end='2016-01-11', freq='2D') # 2 day interval\n",
    "pd.date_range(start='2016-01-01', end='2016-01-10', freq='B') # Business days"
   ]
  },
  {
   "cell_type": "code",
   "execution_count": 22,
   "metadata": {},
   "outputs": [
    {
     "data": {
      "text/plain": [
       "DatetimeIndex(['2016-01-03', '2016-01-10'], dtype='datetime64[ns]', freq='W-SUN')"
      ]
     },
     "execution_count": 22,
     "metadata": {},
     "output_type": "execute_result"
    },
    {
     "data": {
      "text/plain": [
       "DatetimeIndex(['2016-01-01', '2016-01-08'], dtype='datetime64[ns]', freq='W-FRI')"
      ]
     },
     "execution_count": 22,
     "metadata": {},
     "output_type": "execute_result"
    },
    {
     "data": {
      "text/plain": [
       "DatetimeIndex(['2016-01-31', '2016-02-29', '2016-03-31', '2016-04-30',\n",
       "               '2016-05-31', '2016-06-30', '2016-07-31', '2016-08-31',\n",
       "               '2016-09-30', '2016-10-31', '2016-11-30', '2016-12-31'],\n",
       "              dtype='datetime64[ns]', freq='M')"
      ]
     },
     "execution_count": 22,
     "metadata": {},
     "output_type": "execute_result"
    },
    {
     "data": {
      "text/plain": [
       "DatetimeIndex(['2016-01-01', '2016-02-01', '2016-03-01', '2016-04-01',\n",
       "               '2016-05-01', '2016-06-01', '2016-07-01', '2016-08-01',\n",
       "               '2016-09-01', '2016-10-01', '2016-11-01', '2016-12-01'],\n",
       "              dtype='datetime64[ns]', freq='MS')"
      ]
     },
     "execution_count": 22,
     "metadata": {},
     "output_type": "execute_result"
    },
    {
     "data": {
      "text/plain": [
       "DatetimeIndex(['2016-12-31', '2017-12-31', '2018-12-31', '2019-12-31',\n",
       "               '2020-12-31', '2021-12-31', '2022-12-31', '2023-12-31',\n",
       "               '2024-12-31', '2025-12-31', '2026-12-31', '2027-12-31',\n",
       "               '2028-12-31', '2029-12-31', '2030-12-31', '2031-12-31',\n",
       "               '2032-12-31', '2033-12-31', '2034-12-31', '2035-12-31',\n",
       "               '2036-12-31', '2037-12-31', '2038-12-31', '2039-12-31',\n",
       "               '2040-12-31', '2041-12-31', '2042-12-31', '2043-12-31',\n",
       "               '2044-12-31', '2045-12-31', '2046-12-31', '2047-12-31',\n",
       "               '2048-12-31', '2049-12-31', '2050-12-31'],\n",
       "              dtype='datetime64[ns]', freq='A-DEC')"
      ]
     },
     "execution_count": 22,
     "metadata": {},
     "output_type": "execute_result"
    }
   ],
   "source": [
    "pd.date_range(start='2016-01-01', end='2016-01-10', freq='W') # Week (Starts on Sunday)\n",
    "pd.date_range(start='2016-01-01', end='2016-01-10', freq='W-FRI') # Week (Starts on Friday)\n",
    "pd.date_range(start='2016-01-01', end='2016-12-31', freq='M') #returns month end\n",
    "pd.date_range(start='2016-01-01', end='2016-12-31', freq='MS') #returns month starts\n",
    "pd.date_range(start='2016-01-01', end='2050-12-31', freq='A') #returns last day of year"
   ]
  },
  {
   "cell_type": "code",
   "execution_count": 23,
   "metadata": {},
   "outputs": [
    {
     "data": {
      "text/plain": [
       "DatetimeIndex(['2016-01-01', '2016-01-02', '2016-01-03', '2016-01-04',\n",
       "               '2016-01-05', '2016-01-06', '2016-01-07', '2016-01-08',\n",
       "               '2016-01-09', '2016-01-10', '2016-01-11', '2016-01-12'],\n",
       "              dtype='datetime64[ns]', freq='D')"
      ]
     },
     "execution_count": 23,
     "metadata": {},
     "output_type": "execute_result"
    },
    {
     "data": {
      "text/plain": [
       "12"
      ]
     },
     "execution_count": 23,
     "metadata": {},
     "output_type": "execute_result"
    }
   ],
   "source": [
    "pd.date_range(start='2016-01-01', periods=12, freq='1d')\n",
    "len(pd.date_range(start='2016-01-01', periods=12, freq='1d'))"
   ]
  },
  {
   "cell_type": "code",
   "execution_count": 24,
   "metadata": {},
   "outputs": [
    {
     "data": {
      "text/plain": [
       "DatetimeIndex(['2016-01-01', '2016-01-04', '2016-01-05', '2016-01-06',\n",
       "               '2016-01-07', '2016-01-08', '2016-01-11', '2016-01-12',\n",
       "               '2016-01-13', '2016-01-14', '2016-01-15', '2016-01-18'],\n",
       "              dtype='datetime64[ns]', freq='B')"
      ]
     },
     "execution_count": 24,
     "metadata": {},
     "output_type": "execute_result"
    }
   ],
   "source": [
    "pd.date_range(start='2016-01-01', periods=12, freq='B')"
   ]
  },
  {
   "cell_type": "code",
   "execution_count": 25,
   "metadata": {},
   "outputs": [
    {
     "data": {
      "text/plain": [
       "DatetimeIndex(['2016-01-03', '2016-01-10', '2016-01-17', '2016-01-24',\n",
       "               '2016-01-31', '2016-02-07', '2016-02-14', '2016-02-21',\n",
       "               '2016-02-28', '2016-03-06', '2016-03-13', '2016-03-20'],\n",
       "              dtype='datetime64[ns]', freq='W-SUN')"
      ]
     },
     "execution_count": 25,
     "metadata": {},
     "output_type": "execute_result"
    }
   ],
   "source": [
    "pd.date_range(start='2016-01-01', periods=12, freq='W')"
   ]
  },
  {
   "cell_type": "code",
   "execution_count": 26,
   "metadata": {},
   "outputs": [
    {
     "data": {
      "text/plain": [
       "DatetimeIndex(['2016-01-01', '2016-01-08', '2016-01-15', '2016-01-22',\n",
       "               '2016-01-29', '2016-02-05', '2016-02-12', '2016-02-19',\n",
       "               '2016-02-26', '2016-03-04', '2016-03-11', '2016-03-18'],\n",
       "              dtype='datetime64[ns]', freq='W-FRI')"
      ]
     },
     "execution_count": 26,
     "metadata": {},
     "output_type": "execute_result"
    }
   ],
   "source": [
    "pd.date_range(start='2016-01-01', periods=12, freq='W-FRI')"
   ]
  },
  {
   "cell_type": "code",
   "execution_count": 27,
   "metadata": {},
   "outputs": [
    {
     "data": {
      "text/plain": [
       "DatetimeIndex(['2016-01-01', '2016-02-01', '2016-03-01', '2016-04-01',\n",
       "               '2016-05-01', '2016-06-01', '2016-07-01', '2016-08-01',\n",
       "               '2016-09-01', '2016-10-01', '2016-11-01', '2016-12-01'],\n",
       "              dtype='datetime64[ns]', freq='MS')"
      ]
     },
     "execution_count": 27,
     "metadata": {},
     "output_type": "execute_result"
    }
   ],
   "source": [
    "pd.date_range(start='2016-01-01', periods=12, freq='MS')"
   ]
  },
  {
   "cell_type": "code",
   "execution_count": 28,
   "metadata": {},
   "outputs": [
    {
     "data": {
      "text/plain": [
       "DatetimeIndex(['2016-01-31', '2016-02-29', '2016-03-31', '2016-04-30',\n",
       "               '2016-05-31', '2016-06-30', '2016-07-31', '2016-08-31',\n",
       "               '2016-09-30', '2016-10-31', '2016-11-30', '2016-12-31'],\n",
       "              dtype='datetime64[ns]', freq='M')"
      ]
     },
     "execution_count": 28,
     "metadata": {},
     "output_type": "execute_result"
    }
   ],
   "source": [
    "pd.date_range(start='2016-01-01', periods=12, freq='M')"
   ]
  },
  {
   "cell_type": "code",
   "execution_count": 29,
   "metadata": {},
   "outputs": [
    {
     "data": {
      "text/plain": [
       "DatetimeIndex(['2016-12-31', '2017-12-31', '2018-12-31', '2019-12-31',\n",
       "               '2020-12-31', '2021-12-31', '2022-12-31', '2023-12-31',\n",
       "               '2024-12-31', '2025-12-31', '2026-12-31', '2027-12-31'],\n",
       "              dtype='datetime64[ns]', freq='A-DEC')"
      ]
     },
     "execution_count": 29,
     "metadata": {},
     "output_type": "execute_result"
    }
   ],
   "source": [
    "pd.date_range(start='2016-01-01', periods=12, freq='A')"
   ]
  },
  {
   "cell_type": "code",
   "execution_count": 30,
   "metadata": {},
   "outputs": [
    {
     "data": {
      "text/plain": [
       "DatetimeIndex(['2016-06-30', '2017-06-30', '2018-06-30', '2019-06-30',\n",
       "               '2020-06-30', '2021-06-30', '2022-06-30', '2023-06-30',\n",
       "               '2024-06-30', '2025-06-30', '2026-06-30', '2027-06-30'],\n",
       "              dtype='datetime64[ns]', freq='A-JUN')"
      ]
     },
     "execution_count": 30,
     "metadata": {},
     "output_type": "execute_result"
    }
   ],
   "source": [
    "pd.date_range(start='2016-01-01', periods=12, freq='A-JUN')"
   ]
  },
  {
   "cell_type": "code",
   "execution_count": 31,
   "metadata": {},
   "outputs": [
    {
     "data": {
      "text/plain": [
       "DatetimeIndex(['2015-12-21', '2015-12-22', '2015-12-23', '2015-12-24',\n",
       "               '2015-12-25', '2015-12-26', '2015-12-27', '2015-12-28',\n",
       "               '2015-12-29', '2015-12-30', '2015-12-31', '2016-01-01'],\n",
       "              dtype='datetime64[ns]', freq='D')"
      ]
     },
     "execution_count": 31,
     "metadata": {},
     "output_type": "execute_result"
    }
   ],
   "source": [
    "pd.date_range(end='2016-01-01', periods=12, freq='1D')"
   ]
  },
  {
   "cell_type": "code",
   "execution_count": 32,
   "metadata": {},
   "outputs": [
    {
     "data": {
      "text/plain": [
       "DatetimeIndex(['2015-12-17', '2015-12-18', '2015-12-21', '2015-12-22',\n",
       "               '2015-12-23', '2015-12-24', '2015-12-25', '2015-12-28',\n",
       "               '2015-12-29', '2015-12-30', '2015-12-31', '2016-01-01'],\n",
       "              dtype='datetime64[ns]', freq='B')"
      ]
     },
     "execution_count": 32,
     "metadata": {},
     "output_type": "execute_result"
    }
   ],
   "source": [
    "pd.date_range(end='2016-01-01', periods=12, freq='B')"
   ]
  },
  {
   "cell_type": "code",
   "execution_count": 33,
   "metadata": {},
   "outputs": [
    {
     "data": {
      "text/plain": [
       "DatetimeIndex(['2015-10-11', '2015-10-18', '2015-10-25', '2015-11-01',\n",
       "               '2015-11-08', '2015-11-15', '2015-11-22', '2015-11-29',\n",
       "               '2015-12-06', '2015-12-13', '2015-12-20', '2015-12-27'],\n",
       "              dtype='datetime64[ns]', freq='W-SUN')"
      ]
     },
     "execution_count": 33,
     "metadata": {},
     "output_type": "execute_result"
    }
   ],
   "source": [
    "pd.date_range(end='2016-01-01', periods=12, freq='W-SUN')"
   ]
  },
  {
   "cell_type": "code",
   "execution_count": 34,
   "metadata": {},
   "outputs": [
    {
     "data": {
      "text/plain": [
       "DatetimeIndex(['2015-02-01', '2015-03-01', '2015-04-01', '2015-05-01',\n",
       "               '2015-06-01', '2015-07-01', '2015-08-01', '2015-09-01',\n",
       "               '2015-10-01', '2015-11-01', '2015-12-01', '2016-01-01'],\n",
       "              dtype='datetime64[ns]', freq='MS')"
      ]
     },
     "execution_count": 34,
     "metadata": {},
     "output_type": "execute_result"
    }
   ],
   "source": [
    "pd.date_range(end='2016-01-01', periods=12, freq='MS')"
   ]
  },
  {
   "cell_type": "code",
   "execution_count": 35,
   "metadata": {},
   "outputs": [
    {
     "data": {
      "text/plain": [
       "DatetimeIndex(['2004-12-31', '2005-12-31', '2006-12-31', '2007-12-31',\n",
       "               '2008-12-31', '2009-12-31', '2010-12-31', '2011-12-31',\n",
       "               '2012-12-31', '2013-12-31', '2014-12-31', '2015-12-31'],\n",
       "              dtype='datetime64[ns]', freq='A-DEC')"
      ]
     },
     "execution_count": 35,
     "metadata": {},
     "output_type": "execute_result"
    }
   ],
   "source": [
    "pd.date_range(end='2016-01-01', periods=12, freq='a')"
   ]
  },
  {
   "cell_type": "markdown",
   "metadata": {},
   "source": [
    "<a id='7'></a>\n",
    "### 7. The `.dt` Accessor"
   ]
  },
  {
   "cell_type": "code",
   "execution_count": 36,
   "metadata": {},
   "outputs": [],
   "source": [
    "bunch_of_dates = pd.date_range(start=\"2000-01-01\", end=\"2010-12-31\", freq=\"24D\")"
   ]
  },
  {
   "cell_type": "code",
   "execution_count": 37,
   "metadata": {},
   "outputs": [
    {
     "data": {
      "text/plain": [
       "0   2000-01-01\n",
       "1   2000-01-25\n",
       "2   2000-02-18\n",
       "dtype: datetime64[ns]"
      ]
     },
     "execution_count": 37,
     "metadata": {},
     "output_type": "execute_result"
    }
   ],
   "source": [
    "series1 = pd.Series(bunch_of_dates)\n",
    "series1.head(n=3)"
   ]
  },
  {
   "cell_type": "code",
   "execution_count": 38,
   "metadata": {},
   "outputs": [
    {
     "data": {
      "text/plain": [
       "0     1\n",
       "1    25\n",
       "dtype: int64"
      ]
     },
     "execution_count": 38,
     "metadata": {},
     "output_type": "execute_result"
    },
    {
     "data": {
      "text/plain": [
       "0    1\n",
       "1    1\n",
       "dtype: int64"
      ]
     },
     "execution_count": 38,
     "metadata": {},
     "output_type": "execute_result"
    },
    {
     "data": {
      "text/plain": [
       "0    Saturday\n",
       "1     Tuesday\n",
       "dtype: object"
      ]
     },
     "execution_count": 38,
     "metadata": {},
     "output_type": "execute_result"
    },
    {
     "data": {
      "text/plain": [
       "0    2000\n",
       "1    2000\n",
       "dtype: int64"
      ]
     },
     "execution_count": 38,
     "metadata": {},
     "output_type": "execute_result"
    },
    {
     "data": {
      "text/plain": [
       "0     True\n",
       "1    False\n",
       "dtype: bool"
      ]
     },
     "execution_count": 38,
     "metadata": {},
     "output_type": "execute_result"
    }
   ],
   "source": [
    "series1.dt.day.head(n=2)\n",
    "series1.dt.month.head(n=2)\n",
    "series1.dt.weekday_name.head(n=2)\n",
    "series1.dt.year.head(n=2)\n",
    "series1.dt.is_quarter_start.head(n=2)"
   ]
  },
  {
   "cell_type": "code",
   "execution_count": 39,
   "metadata": {},
   "outputs": [
    {
     "data": {
      "text/plain": [
       "0     2000-01-01\n",
       "19    2001-04-01\n",
       "38    2002-07-01\n",
       "137   2009-01-01\n",
       "dtype: datetime64[ns]"
      ]
     },
     "execution_count": 39,
     "metadata": {},
     "output_type": "execute_result"
    }
   ],
   "source": [
    "filter1 = series1.dt.is_quarter_start\n",
    "series1[filter1]"
   ]
  },
  {
   "cell_type": "code",
   "execution_count": 40,
   "metadata": {},
   "outputs": [
    {
     "data": {
      "text/plain": [
       "5     2000-04-30\n",
       "57    2003-09-30\n",
       "71    2004-08-31\n",
       "90    2005-11-30\n",
       "123   2008-01-31\n",
       "161   2010-07-31\n",
       "dtype: datetime64[ns]"
      ]
     },
     "execution_count": 40,
     "metadata": {},
     "output_type": "execute_result"
    }
   ],
   "source": [
    "filter1 = series1.dt.is_month_end\n",
    "series1[filter1]"
   ]
  },
  {
   "cell_type": "markdown",
   "metadata": {},
   "source": [
    "<a id='8'></a>\n",
    "### 8. Install `pandas-datareader` Library"
   ]
  },
  {
   "cell_type": "markdown",
   "metadata": {},
   "source": [
    "<a id='9'></a>\n",
    "### 9. Import Financial Data Set with `pandas_datareader` Library"
   ]
  },
  {
   "cell_type": "code",
   "execution_count": 41,
   "metadata": {},
   "outputs": [
    {
     "data": {
      "text/html": [
       "<div>\n",
       "<style scoped>\n",
       "    .dataframe tbody tr th:only-of-type {\n",
       "        vertical-align: middle;\n",
       "    }\n",
       "\n",
       "    .dataframe tbody tr th {\n",
       "        vertical-align: top;\n",
       "    }\n",
       "\n",
       "    .dataframe thead th {\n",
       "        text-align: right;\n",
       "    }\n",
       "</style>\n",
       "<table border=\"1\" class=\"dataframe\">\n",
       "  <thead>\n",
       "    <tr style=\"text-align: right;\">\n",
       "      <th></th>\n",
       "      <th>High</th>\n",
       "      <th>Low</th>\n",
       "      <th>Open</th>\n",
       "      <th>Close</th>\n",
       "      <th>Volume</th>\n",
       "      <th>Adj Close</th>\n",
       "    </tr>\n",
       "    <tr>\n",
       "      <th>Date</th>\n",
       "      <th></th>\n",
       "      <th></th>\n",
       "      <th></th>\n",
       "      <th></th>\n",
       "      <th></th>\n",
       "      <th></th>\n",
       "    </tr>\n",
       "  </thead>\n",
       "  <tbody>\n",
       "    <tr>\n",
       "      <td>2013-01-02</td>\n",
       "      <td>27.73</td>\n",
       "      <td>27.15</td>\n",
       "      <td>27.250000</td>\n",
       "      <td>27.620001</td>\n",
       "      <td>52899300.0</td>\n",
       "      <td>23.426353</td>\n",
       "    </tr>\n",
       "    <tr>\n",
       "      <td>2013-01-03</td>\n",
       "      <td>27.65</td>\n",
       "      <td>27.16</td>\n",
       "      <td>27.629999</td>\n",
       "      <td>27.250000</td>\n",
       "      <td>48294400.0</td>\n",
       "      <td>23.112528</td>\n",
       "    </tr>\n",
       "    <tr>\n",
       "      <td>2013-01-04</td>\n",
       "      <td>27.34</td>\n",
       "      <td>26.73</td>\n",
       "      <td>27.270000</td>\n",
       "      <td>26.740000</td>\n",
       "      <td>52521100.0</td>\n",
       "      <td>22.679964</td>\n",
       "    </tr>\n",
       "  </tbody>\n",
       "</table>\n",
       "</div>"
      ],
      "text/plain": [
       "             High    Low       Open      Close      Volume  Adj Close\n",
       "Date                                                                 \n",
       "2013-01-02  27.73  27.15  27.250000  27.620001  52899300.0  23.426353\n",
       "2013-01-03  27.65  27.16  27.629999  27.250000  48294400.0  23.112528\n",
       "2013-01-04  27.34  26.73  27.270000  26.740000  52521100.0  22.679964"
      ]
     },
     "execution_count": 41,
     "metadata": {},
     "output_type": "execute_result"
    }
   ],
   "source": [
    "company = \"MSFT\"\n",
    "start = \"2013-01-01\"\n",
    "end = \"2020-12-31\"\n",
    "stocks = data.DataReader(name=\"MSFT\",data_source=\"yahoo\", start=start, end=end)\n",
    "stocks.head(n=3)"
   ]
  },
  {
   "cell_type": "code",
   "execution_count": 42,
   "metadata": {},
   "outputs": [
    {
     "data": {
      "text/plain": [
       "array([[2.77299995e+01, 2.71499996e+01, 2.72500000e+01, 2.76200008e+01,\n",
       "        5.28993000e+07, 2.34263535e+01],\n",
       "       [2.76499996e+01, 2.71599998e+01, 2.76299992e+01, 2.72500000e+01,\n",
       "        4.82944000e+07, 2.31125278e+01],\n",
       "       [2.73400002e+01, 2.67299995e+01, 2.72700005e+01, 2.67399998e+01,\n",
       "        5.25211000e+07, 2.26799641e+01],\n",
       "       ...,\n",
       "       [1.59669998e+02, 1.57320007e+02, 1.59320007e+02, 1.57580002e+02,\n",
       "        2.16341000e+07, 1.57580002e+02],\n",
       "       [1.60800003e+02, 1.57949997e+02, 1.58929993e+02, 1.60089996e+02,\n",
       "        2.77465000e+07, 1.60089996e+02],\n",
       "       [1.62214996e+02, 1.61039993e+02, 1.61835007e+02, 1.61660004e+02,\n",
       "        1.50715010e+07, 1.61660004e+02]])"
      ]
     },
     "execution_count": 42,
     "metadata": {},
     "output_type": "execute_result"
    }
   ],
   "source": [
    "stocks.values"
   ]
  },
  {
   "cell_type": "code",
   "execution_count": 43,
   "metadata": {},
   "outputs": [
    {
     "data": {
      "text/plain": [
       "Index(['High', 'Low', 'Open', 'Close', 'Volume', 'Adj Close'], dtype='object')"
      ]
     },
     "execution_count": 43,
     "metadata": {},
     "output_type": "execute_result"
    }
   ],
   "source": [
    "stocks.columns"
   ]
  },
  {
   "cell_type": "code",
   "execution_count": 44,
   "metadata": {},
   "outputs": [
    {
     "data": {
      "text/plain": [
       "DatetimeIndex(['2013-01-02', '2013-01-03', '2013-01-04', '2013-01-07',\n",
       "               '2013-01-08', '2013-01-09', '2013-01-10', '2013-01-11',\n",
       "               '2013-01-14', '2013-01-15',\n",
       "               ...\n",
       "               '2019-12-26', '2019-12-27', '2019-12-30', '2019-12-31',\n",
       "               '2020-01-02', '2020-01-03', '2020-01-06', '2020-01-07',\n",
       "               '2020-01-08', '2020-01-09'],\n",
       "              dtype='datetime64[ns]', name='Date', length=1768, freq=None)"
      ]
     },
     "execution_count": 44,
     "metadata": {},
     "output_type": "execute_result"
    }
   ],
   "source": [
    "stocks.index"
   ]
  },
  {
   "cell_type": "code",
   "execution_count": 45,
   "metadata": {},
   "outputs": [
    {
     "data": {
      "text/plain": [
       "Timestamp('2013-01-02 00:00:00')"
      ]
     },
     "execution_count": 45,
     "metadata": {},
     "output_type": "execute_result"
    }
   ],
   "source": [
    "stocks.index[0]"
   ]
  },
  {
   "cell_type": "code",
   "execution_count": 46,
   "metadata": {},
   "outputs": [
    {
     "data": {
      "text/plain": [
       "[DatetimeIndex(['2013-01-02', '2013-01-03', '2013-01-04', '2013-01-07',\n",
       "                '2013-01-08', '2013-01-09', '2013-01-10', '2013-01-11',\n",
       "                '2013-01-14', '2013-01-15',\n",
       "                ...\n",
       "                '2019-12-26', '2019-12-27', '2019-12-30', '2019-12-31',\n",
       "                '2020-01-02', '2020-01-03', '2020-01-06', '2020-01-07',\n",
       "                '2020-01-08', '2020-01-09'],\n",
       "               dtype='datetime64[ns]', name='Date', length=1768, freq=None),\n",
       " Index(['High', 'Low', 'Open', 'Close', 'Volume', 'Adj Close'], dtype='object')]"
      ]
     },
     "execution_count": 46,
     "metadata": {},
     "output_type": "execute_result"
    }
   ],
   "source": [
    "stocks.axes"
   ]
  },
  {
   "cell_type": "markdown",
   "metadata": {},
   "source": [
    "<a id='10'></a>\n",
    "### 10. Selecting Rows from a DataFrame with `DateTimeIndex`"
   ]
  },
  {
   "cell_type": "code",
   "execution_count": 47,
   "metadata": {},
   "outputs": [
    {
     "data": {
      "text/html": [
       "<div>\n",
       "<style scoped>\n",
       "    .dataframe tbody tr th:only-of-type {\n",
       "        vertical-align: middle;\n",
       "    }\n",
       "\n",
       "    .dataframe tbody tr th {\n",
       "        vertical-align: top;\n",
       "    }\n",
       "\n",
       "    .dataframe thead th {\n",
       "        text-align: right;\n",
       "    }\n",
       "</style>\n",
       "<table border=\"1\" class=\"dataframe\">\n",
       "  <thead>\n",
       "    <tr style=\"text-align: right;\">\n",
       "      <th></th>\n",
       "      <th>High</th>\n",
       "      <th>Low</th>\n",
       "      <th>Open</th>\n",
       "      <th>Close</th>\n",
       "      <th>Volume</th>\n",
       "      <th>Adj Close</th>\n",
       "    </tr>\n",
       "    <tr>\n",
       "      <th>Date</th>\n",
       "      <th></th>\n",
       "      <th></th>\n",
       "      <th></th>\n",
       "      <th></th>\n",
       "      <th></th>\n",
       "      <th></th>\n",
       "    </tr>\n",
       "  </thead>\n",
       "  <tbody>\n",
       "    <tr>\n",
       "      <td>2013-01-02</td>\n",
       "      <td>14.40</td>\n",
       "      <td>13.96</td>\n",
       "      <td>14.01</td>\n",
       "      <td>14.10</td>\n",
       "      <td>214600</td>\n",
       "      <td>14.10</td>\n",
       "    </tr>\n",
       "    <tr>\n",
       "      <td>2013-01-03</td>\n",
       "      <td>14.17</td>\n",
       "      <td>13.90</td>\n",
       "      <td>14.09</td>\n",
       "      <td>13.99</td>\n",
       "      <td>139800</td>\n",
       "      <td>13.99</td>\n",
       "    </tr>\n",
       "    <tr>\n",
       "      <td>2013-01-04</td>\n",
       "      <td>14.22</td>\n",
       "      <td>13.91</td>\n",
       "      <td>14.08</td>\n",
       "      <td>14.16</td>\n",
       "      <td>219900</td>\n",
       "      <td>14.16</td>\n",
       "    </tr>\n",
       "  </tbody>\n",
       "</table>\n",
       "</div>"
      ],
      "text/plain": [
       "             High    Low   Open  Close  Volume  Adj Close\n",
       "Date                                                     \n",
       "2013-01-02  14.40  13.96  14.01  14.10  214600      14.10\n",
       "2013-01-03  14.17  13.90  14.09  13.99  139800      13.99\n",
       "2013-01-04  14.22  13.91  14.08  14.16  219900      14.16"
      ]
     },
     "execution_count": 47,
     "metadata": {},
     "output_type": "execute_result"
    }
   ],
   "source": [
    "company = \"MSFT\"\n",
    "start = \"2013-01-01\"\n",
    "end = \"2020-12-31\"\n",
    "stocks = data.DataReader(name=\"SCOR\",data_source=\"yahoo\", start=start, end=end)\n",
    "stocks.head(n=3)"
   ]
  },
  {
   "cell_type": "code",
   "execution_count": 48,
   "metadata": {},
   "outputs": [
    {
     "data": {
      "text/plain": [
       "High             32.910000\n",
       "Low              31.540001\n",
       "Open             31.860001\n",
       "Close            32.279999\n",
       "Volume       361700.000000\n",
       "Adj Close        32.279999\n",
       "Name: 2014-03-04 00:00:00, dtype: float64"
      ]
     },
     "execution_count": 48,
     "metadata": {},
     "output_type": "execute_result"
    }
   ],
   "source": [
    "stocks.loc[\"2014-03-04\"]"
   ]
  },
  {
   "cell_type": "code",
   "execution_count": 49,
   "metadata": {},
   "outputs": [
    {
     "data": {
      "text/plain": [
       "High             14.40\n",
       "Low              13.96\n",
       "Open             14.01\n",
       "Close            14.10\n",
       "Volume       214600.00\n",
       "Adj Close        14.10\n",
       "Name: 2013-01-02 00:00:00, dtype: float64"
      ]
     },
     "execution_count": 49,
     "metadata": {},
     "output_type": "execute_result"
    }
   ],
   "source": [
    "stocks.iloc[0]"
   ]
  },
  {
   "cell_type": "code",
   "execution_count": 50,
   "metadata": {},
   "outputs": [
    {
     "data": {
      "text/plain": [
       "High             14.40\n",
       "Low              13.96\n",
       "Open             14.01\n",
       "Close            14.10\n",
       "Volume       214600.00\n",
       "Adj Close        14.10\n",
       "Name: 2013-01-02 00:00:00, dtype: float64"
      ]
     },
     "execution_count": 50,
     "metadata": {},
     "output_type": "execute_result"
    },
    {
     "data": {
      "text/plain": [
       "High             14.40\n",
       "Low              13.96\n",
       "Open             14.01\n",
       "Close            14.10\n",
       "Volume       214600.00\n",
       "Adj Close        14.10\n",
       "Name: 2013-01-02 00:00:00, dtype: float64"
      ]
     },
     "execution_count": 50,
     "metadata": {},
     "output_type": "execute_result"
    }
   ],
   "source": [
    "stocks.ix[0]\n",
    "stocks.ix[\"2013-01-02\"]"
   ]
  },
  {
   "cell_type": "code",
   "execution_count": 51,
   "metadata": {},
   "outputs": [
    {
     "data": {
      "text/html": [
       "<div>\n",
       "<style scoped>\n",
       "    .dataframe tbody tr th:only-of-type {\n",
       "        vertical-align: middle;\n",
       "    }\n",
       "\n",
       "    .dataframe tbody tr th {\n",
       "        vertical-align: top;\n",
       "    }\n",
       "\n",
       "    .dataframe thead th {\n",
       "        text-align: right;\n",
       "    }\n",
       "</style>\n",
       "<table border=\"1\" class=\"dataframe\">\n",
       "  <thead>\n",
       "    <tr style=\"text-align: right;\">\n",
       "      <th></th>\n",
       "      <th>High</th>\n",
       "      <th>Low</th>\n",
       "      <th>Open</th>\n",
       "      <th>Close</th>\n",
       "      <th>Volume</th>\n",
       "      <th>Adj Close</th>\n",
       "    </tr>\n",
       "    <tr>\n",
       "      <th>Date</th>\n",
       "      <th></th>\n",
       "      <th></th>\n",
       "      <th></th>\n",
       "      <th></th>\n",
       "      <th></th>\n",
       "      <th></th>\n",
       "    </tr>\n",
       "  </thead>\n",
       "  <tbody>\n",
       "    <tr>\n",
       "      <td>2013-10-01</td>\n",
       "      <td>29.110001</td>\n",
       "      <td>28.760000</td>\n",
       "      <td>28.879999</td>\n",
       "      <td>29.090000</td>\n",
       "      <td>141900</td>\n",
       "      <td>29.090000</td>\n",
       "    </tr>\n",
       "    <tr>\n",
       "      <td>2013-10-02</td>\n",
       "      <td>29.040001</td>\n",
       "      <td>28.340000</td>\n",
       "      <td>28.709999</td>\n",
       "      <td>28.700001</td>\n",
       "      <td>189300</td>\n",
       "      <td>28.700001</td>\n",
       "    </tr>\n",
       "    <tr>\n",
       "      <td>2013-10-03</td>\n",
       "      <td>28.709999</td>\n",
       "      <td>28.209999</td>\n",
       "      <td>28.559999</td>\n",
       "      <td>28.510000</td>\n",
       "      <td>140400</td>\n",
       "      <td>28.510000</td>\n",
       "    </tr>\n",
       "    <tr>\n",
       "      <td>2013-10-04</td>\n",
       "      <td>29.059999</td>\n",
       "      <td>28.350000</td>\n",
       "      <td>28.450001</td>\n",
       "      <td>28.830000</td>\n",
       "      <td>82100</td>\n",
       "      <td>28.830000</td>\n",
       "    </tr>\n",
       "    <tr>\n",
       "      <td>2013-10-07</td>\n",
       "      <td>28.680000</td>\n",
       "      <td>28.160000</td>\n",
       "      <td>28.549999</td>\n",
       "      <td>28.370001</td>\n",
       "      <td>153600</td>\n",
       "      <td>28.370001</td>\n",
       "    </tr>\n",
       "  </tbody>\n",
       "</table>\n",
       "</div>"
      ],
      "text/plain": [
       "                 High        Low       Open      Close  Volume  Adj Close\n",
       "Date                                                                     \n",
       "2013-10-01  29.110001  28.760000  28.879999  29.090000  141900  29.090000\n",
       "2013-10-02  29.040001  28.340000  28.709999  28.700001  189300  28.700001\n",
       "2013-10-03  28.709999  28.209999  28.559999  28.510000  140400  28.510000\n",
       "2013-10-04  29.059999  28.350000  28.450001  28.830000   82100  28.830000\n",
       "2013-10-07  28.680000  28.160000  28.549999  28.370001  153600  28.370001"
      ]
     },
     "execution_count": 51,
     "metadata": {},
     "output_type": "execute_result"
    }
   ],
   "source": [
    "stocks.loc[\"2013-10-01\":\"2013-10-07\"]"
   ]
  },
  {
   "cell_type": "code",
   "execution_count": 52,
   "metadata": {},
   "outputs": [
    {
     "data": {
      "text/html": [
       "<div>\n",
       "<style scoped>\n",
       "    .dataframe tbody tr th:only-of-type {\n",
       "        vertical-align: middle;\n",
       "    }\n",
       "\n",
       "    .dataframe tbody tr th {\n",
       "        vertical-align: top;\n",
       "    }\n",
       "\n",
       "    .dataframe thead th {\n",
       "        text-align: right;\n",
       "    }\n",
       "</style>\n",
       "<table border=\"1\" class=\"dataframe\">\n",
       "  <thead>\n",
       "    <tr style=\"text-align: right;\">\n",
       "      <th></th>\n",
       "      <th>High</th>\n",
       "      <th>Low</th>\n",
       "      <th>Open</th>\n",
       "      <th>Close</th>\n",
       "      <th>Volume</th>\n",
       "      <th>Adj Close</th>\n",
       "    </tr>\n",
       "    <tr>\n",
       "      <th>Date</th>\n",
       "      <th></th>\n",
       "      <th></th>\n",
       "      <th></th>\n",
       "      <th></th>\n",
       "      <th></th>\n",
       "      <th></th>\n",
       "    </tr>\n",
       "  </thead>\n",
       "  <tbody>\n",
       "    <tr>\n",
       "      <td>2013-10-01</td>\n",
       "      <td>29.110001</td>\n",
       "      <td>28.760000</td>\n",
       "      <td>28.879999</td>\n",
       "      <td>29.090000</td>\n",
       "      <td>141900</td>\n",
       "      <td>29.090000</td>\n",
       "    </tr>\n",
       "    <tr>\n",
       "      <td>2013-10-02</td>\n",
       "      <td>29.040001</td>\n",
       "      <td>28.340000</td>\n",
       "      <td>28.709999</td>\n",
       "      <td>28.700001</td>\n",
       "      <td>189300</td>\n",
       "      <td>28.700001</td>\n",
       "    </tr>\n",
       "    <tr>\n",
       "      <td>2013-10-03</td>\n",
       "      <td>28.709999</td>\n",
       "      <td>28.209999</td>\n",
       "      <td>28.559999</td>\n",
       "      <td>28.510000</td>\n",
       "      <td>140400</td>\n",
       "      <td>28.510000</td>\n",
       "    </tr>\n",
       "    <tr>\n",
       "      <td>2013-10-04</td>\n",
       "      <td>29.059999</td>\n",
       "      <td>28.350000</td>\n",
       "      <td>28.450001</td>\n",
       "      <td>28.830000</td>\n",
       "      <td>82100</td>\n",
       "      <td>28.830000</td>\n",
       "    </tr>\n",
       "    <tr>\n",
       "      <td>2013-10-07</td>\n",
       "      <td>28.680000</td>\n",
       "      <td>28.160000</td>\n",
       "      <td>28.549999</td>\n",
       "      <td>28.370001</td>\n",
       "      <td>153600</td>\n",
       "      <td>28.370001</td>\n",
       "    </tr>\n",
       "  </tbody>\n",
       "</table>\n",
       "</div>"
      ],
      "text/plain": [
       "                 High        Low       Open      Close  Volume  Adj Close\n",
       "Date                                                                     \n",
       "2013-10-01  29.110001  28.760000  28.879999  29.090000  141900  29.090000\n",
       "2013-10-02  29.040001  28.340000  28.709999  28.700001  189300  28.700001\n",
       "2013-10-03  28.709999  28.209999  28.559999  28.510000  140400  28.510000\n",
       "2013-10-04  29.059999  28.350000  28.450001  28.830000   82100  28.830000\n",
       "2013-10-07  28.680000  28.160000  28.549999  28.370001  153600  28.370001"
      ]
     },
     "execution_count": 52,
     "metadata": {},
     "output_type": "execute_result"
    }
   ],
   "source": [
    "stocks.ix[\"2013-10-01\":\"2013-10-07\"]"
   ]
  },
  {
   "cell_type": "code",
   "execution_count": 53,
   "metadata": {},
   "outputs": [
    {
     "data": {
      "text/plain": [
       "DatetimeIndex(['1991-06-27', '1992-06-27', '1993-06-27', '1994-06-27',\n",
       "               '1995-06-27', '1996-06-27', '1997-06-27', '1998-06-27',\n",
       "               '1999-06-27', '2000-06-27', '2001-06-27', '2002-06-27',\n",
       "               '2003-06-27', '2004-06-27', '2005-06-27', '2006-06-27',\n",
       "               '2007-06-27', '2008-06-27', '2009-06-27', '2010-06-27',\n",
       "               '2011-06-27', '2012-06-27', '2013-06-27', '2014-06-27',\n",
       "               '2015-06-27', '2016-06-27', '2017-06-27', '2018-06-27',\n",
       "               '2019-06-27', '2020-06-27'],\n",
       "              dtype='datetime64[ns]', freq='<DateOffset: years=1>')"
      ]
     },
     "execution_count": 53,
     "metadata": {},
     "output_type": "execute_result"
    }
   ],
   "source": [
    "pd.date_range(start=\"1991-06-27\", end = \"2020-06-27\", freq=pd.DateOffset(years=1))"
   ]
  },
  {
   "cell_type": "code",
   "execution_count": 54,
   "metadata": {},
   "outputs": [],
   "source": [
    "birthdays = pd.date_range(start=\"1991-06-27\", end = \"2020-06-27\", freq=pd.DateOffset(years=1))"
   ]
  },
  {
   "cell_type": "code",
   "execution_count": 55,
   "metadata": {},
   "outputs": [
    {
     "data": {
      "text/html": [
       "<div>\n",
       "<style scoped>\n",
       "    .dataframe tbody tr th:only-of-type {\n",
       "        vertical-align: middle;\n",
       "    }\n",
       "\n",
       "    .dataframe tbody tr th {\n",
       "        vertical-align: top;\n",
       "    }\n",
       "\n",
       "    .dataframe thead th {\n",
       "        text-align: right;\n",
       "    }\n",
       "</style>\n",
       "<table border=\"1\" class=\"dataframe\">\n",
       "  <thead>\n",
       "    <tr style=\"text-align: right;\">\n",
       "      <th></th>\n",
       "      <th>High</th>\n",
       "      <th>Low</th>\n",
       "      <th>Open</th>\n",
       "      <th>Close</th>\n",
       "      <th>Volume</th>\n",
       "      <th>Adj Close</th>\n",
       "    </tr>\n",
       "    <tr>\n",
       "      <th>Date</th>\n",
       "      <th></th>\n",
       "      <th></th>\n",
       "      <th></th>\n",
       "      <th></th>\n",
       "      <th></th>\n",
       "      <th></th>\n",
       "    </tr>\n",
       "  </thead>\n",
       "  <tbody>\n",
       "    <tr>\n",
       "      <td>2013-06-27</td>\n",
       "      <td>23.990000</td>\n",
       "      <td>23.420000</td>\n",
       "      <td>23.469999</td>\n",
       "      <td>23.940001</td>\n",
       "      <td>130700</td>\n",
       "      <td>23.940001</td>\n",
       "    </tr>\n",
       "    <tr>\n",
       "      <td>2014-06-27</td>\n",
       "      <td>35.480000</td>\n",
       "      <td>34.810001</td>\n",
       "      <td>35.000000</td>\n",
       "      <td>35.340000</td>\n",
       "      <td>548700</td>\n",
       "      <td>35.340000</td>\n",
       "    </tr>\n",
       "    <tr>\n",
       "      <td>2016-06-27</td>\n",
       "      <td>30.209999</td>\n",
       "      <td>28.420000</td>\n",
       "      <td>30.129999</td>\n",
       "      <td>29.400000</td>\n",
       "      <td>749100</td>\n",
       "      <td>29.400000</td>\n",
       "    </tr>\n",
       "    <tr>\n",
       "      <td>2017-06-27</td>\n",
       "      <td>26.420000</td>\n",
       "      <td>26.250000</td>\n",
       "      <td>26.400000</td>\n",
       "      <td>26.250000</td>\n",
       "      <td>53400</td>\n",
       "      <td>26.250000</td>\n",
       "    </tr>\n",
       "    <tr>\n",
       "      <td>2018-06-27</td>\n",
       "      <td>22.059999</td>\n",
       "      <td>20.549999</td>\n",
       "      <td>21.690001</td>\n",
       "      <td>21.120001</td>\n",
       "      <td>119500</td>\n",
       "      <td>21.120001</td>\n",
       "    </tr>\n",
       "    <tr>\n",
       "      <td>2019-06-27</td>\n",
       "      <td>5.840000</td>\n",
       "      <td>5.180000</td>\n",
       "      <td>5.680000</td>\n",
       "      <td>5.320000</td>\n",
       "      <td>1882000</td>\n",
       "      <td>5.320000</td>\n",
       "    </tr>\n",
       "  </tbody>\n",
       "</table>\n",
       "</div>"
      ],
      "text/plain": [
       "                 High        Low       Open      Close   Volume  Adj Close\n",
       "Date                                                                      \n",
       "2013-06-27  23.990000  23.420000  23.469999  23.940001   130700  23.940001\n",
       "2014-06-27  35.480000  34.810001  35.000000  35.340000   548700  35.340000\n",
       "2016-06-27  30.209999  28.420000  30.129999  29.400000   749100  29.400000\n",
       "2017-06-27  26.420000  26.250000  26.400000  26.250000    53400  26.250000\n",
       "2018-06-27  22.059999  20.549999  21.690001  21.120001   119500  21.120001\n",
       "2019-06-27   5.840000   5.180000   5.680000   5.320000  1882000   5.320000"
      ]
     },
     "execution_count": 55,
     "metadata": {},
     "output_type": "execute_result"
    }
   ],
   "source": [
    "filter1 = stocks.index.isin(birthdays)\n",
    "stocks.loc[filter1]"
   ]
  },
  {
   "cell_type": "markdown",
   "metadata": {},
   "source": [
    "<a id='11'></a>\n",
    "### 11. Timestamp Object Attributes"
   ]
  },
  {
   "cell_type": "code",
   "execution_count": 56,
   "metadata": {},
   "outputs": [
    {
     "data": {
      "text/html": [
       "<div>\n",
       "<style scoped>\n",
       "    .dataframe tbody tr th:only-of-type {\n",
       "        vertical-align: middle;\n",
       "    }\n",
       "\n",
       "    .dataframe tbody tr th {\n",
       "        vertical-align: top;\n",
       "    }\n",
       "\n",
       "    .dataframe thead th {\n",
       "        text-align: right;\n",
       "    }\n",
       "</style>\n",
       "<table border=\"1\" class=\"dataframe\">\n",
       "  <thead>\n",
       "    <tr style=\"text-align: right;\">\n",
       "      <th></th>\n",
       "      <th>High</th>\n",
       "      <th>Low</th>\n",
       "      <th>Open</th>\n",
       "      <th>Close</th>\n",
       "      <th>Volume</th>\n",
       "      <th>Adj Close</th>\n",
       "    </tr>\n",
       "    <tr>\n",
       "      <th>Date</th>\n",
       "      <th></th>\n",
       "      <th></th>\n",
       "      <th></th>\n",
       "      <th></th>\n",
       "      <th></th>\n",
       "      <th></th>\n",
       "    </tr>\n",
       "  </thead>\n",
       "  <tbody>\n",
       "    <tr>\n",
       "      <td>2013-01-02</td>\n",
       "      <td>14.40</td>\n",
       "      <td>13.96</td>\n",
       "      <td>14.01</td>\n",
       "      <td>14.10</td>\n",
       "      <td>214600</td>\n",
       "      <td>14.10</td>\n",
       "    </tr>\n",
       "    <tr>\n",
       "      <td>2013-01-03</td>\n",
       "      <td>14.17</td>\n",
       "      <td>13.90</td>\n",
       "      <td>14.09</td>\n",
       "      <td>13.99</td>\n",
       "      <td>139800</td>\n",
       "      <td>13.99</td>\n",
       "    </tr>\n",
       "    <tr>\n",
       "      <td>2013-01-04</td>\n",
       "      <td>14.22</td>\n",
       "      <td>13.91</td>\n",
       "      <td>14.08</td>\n",
       "      <td>14.16</td>\n",
       "      <td>219900</td>\n",
       "      <td>14.16</td>\n",
       "    </tr>\n",
       "  </tbody>\n",
       "</table>\n",
       "</div>"
      ],
      "text/plain": [
       "             High    Low   Open  Close  Volume  Adj Close\n",
       "Date                                                     \n",
       "2013-01-02  14.40  13.96  14.01  14.10  214600      14.10\n",
       "2013-01-03  14.17  13.90  14.09  13.99  139800      13.99\n",
       "2013-01-04  14.22  13.91  14.08  14.16  219900      14.16"
      ]
     },
     "execution_count": 56,
     "metadata": {},
     "output_type": "execute_result"
    }
   ],
   "source": [
    "company = \"MSFT\"\n",
    "start = \"2013-01-01\"\n",
    "end = \"2020-12-31\"\n",
    "stocks = data.DataReader(name=\"SCOR\",data_source=\"yahoo\", start=start, end=end)\n",
    "stocks.head(n=3)"
   ]
  },
  {
   "cell_type": "code",
   "execution_count": 57,
   "metadata": {},
   "outputs": [
    {
     "data": {
      "text/plain": [
       "Timestamp('2014-12-26 00:00:00')"
      ]
     },
     "execution_count": 57,
     "metadata": {},
     "output_type": "execute_result"
    }
   ],
   "source": [
    "some_day = stocks.index[500]\n",
    "some_day"
   ]
  },
  {
   "cell_type": "code",
   "execution_count": 58,
   "metadata": {},
   "outputs": [
    {
     "data": {
      "text/plain": [
       "26"
      ]
     },
     "execution_count": 58,
     "metadata": {},
     "output_type": "execute_result"
    },
    {
     "data": {
      "text/plain": [
       "12"
      ]
     },
     "execution_count": 58,
     "metadata": {},
     "output_type": "execute_result"
    },
    {
     "data": {
      "text/plain": [
       "2014"
      ]
     },
     "execution_count": 58,
     "metadata": {},
     "output_type": "execute_result"
    },
    {
     "data": {
      "text/plain": [
       "'Friday'"
      ]
     },
     "execution_count": 58,
     "metadata": {},
     "output_type": "execute_result"
    },
    {
     "data": {
      "text/plain": [
       "False"
      ]
     },
     "execution_count": 58,
     "metadata": {},
     "output_type": "execute_result"
    },
    {
     "data": {
      "text/plain": [
       "False"
      ]
     },
     "execution_count": 58,
     "metadata": {},
     "output_type": "execute_result"
    }
   ],
   "source": [
    "some_day.day\n",
    "some_day.month\n",
    "some_day.year\n",
    "some_day.weekday_name\n",
    "some_day.is_month_end\n",
    "some_day.is_month_start"
   ]
  },
  {
   "cell_type": "code",
   "execution_count": 59,
   "metadata": {},
   "outputs": [
    {
     "data": {
      "text/html": [
       "<div>\n",
       "<style scoped>\n",
       "    .dataframe tbody tr th:only-of-type {\n",
       "        vertical-align: middle;\n",
       "    }\n",
       "\n",
       "    .dataframe tbody tr th {\n",
       "        vertical-align: top;\n",
       "    }\n",
       "\n",
       "    .dataframe thead th {\n",
       "        text-align: right;\n",
       "    }\n",
       "</style>\n",
       "<table border=\"1\" class=\"dataframe\">\n",
       "  <thead>\n",
       "    <tr style=\"text-align: right;\">\n",
       "      <th></th>\n",
       "      <th>Day of Week</th>\n",
       "      <th>High</th>\n",
       "      <th>Low</th>\n",
       "      <th>Open</th>\n",
       "      <th>Close</th>\n",
       "      <th>Volume</th>\n",
       "      <th>Adj Close</th>\n",
       "    </tr>\n",
       "    <tr>\n",
       "      <th>Date</th>\n",
       "      <th></th>\n",
       "      <th></th>\n",
       "      <th></th>\n",
       "      <th></th>\n",
       "      <th></th>\n",
       "      <th></th>\n",
       "      <th></th>\n",
       "    </tr>\n",
       "  </thead>\n",
       "  <tbody>\n",
       "    <tr>\n",
       "      <td>2013-01-02</td>\n",
       "      <td>Wednesday</td>\n",
       "      <td>14.40</td>\n",
       "      <td>13.96</td>\n",
       "      <td>14.01</td>\n",
       "      <td>14.10</td>\n",
       "      <td>214600</td>\n",
       "      <td>14.10</td>\n",
       "    </tr>\n",
       "    <tr>\n",
       "      <td>2013-01-03</td>\n",
       "      <td>Thursday</td>\n",
       "      <td>14.17</td>\n",
       "      <td>13.90</td>\n",
       "      <td>14.09</td>\n",
       "      <td>13.99</td>\n",
       "      <td>139800</td>\n",
       "      <td>13.99</td>\n",
       "    </tr>\n",
       "    <tr>\n",
       "      <td>2013-01-04</td>\n",
       "      <td>Friday</td>\n",
       "      <td>14.22</td>\n",
       "      <td>13.91</td>\n",
       "      <td>14.08</td>\n",
       "      <td>14.16</td>\n",
       "      <td>219900</td>\n",
       "      <td>14.16</td>\n",
       "    </tr>\n",
       "  </tbody>\n",
       "</table>\n",
       "</div>"
      ],
      "text/plain": [
       "           Day of Week   High    Low   Open  Close  Volume  Adj Close\n",
       "Date                                                                 \n",
       "2013-01-02   Wednesday  14.40  13.96  14.01  14.10  214600      14.10\n",
       "2013-01-03    Thursday  14.17  13.90  14.09  13.99  139800      13.99\n",
       "2013-01-04      Friday  14.22  13.91  14.08  14.16  219900      14.16"
      ]
     },
     "execution_count": 59,
     "metadata": {},
     "output_type": "execute_result"
    }
   ],
   "source": [
    "stocks.insert(loc=0, column = \"Day of Week\", value=stocks.index.weekday_name)\n",
    "stocks.head(n=3)"
   ]
  },
  {
   "cell_type": "code",
   "execution_count": 60,
   "metadata": {},
   "outputs": [
    {
     "data": {
      "text/html": [
       "<div>\n",
       "<style scoped>\n",
       "    .dataframe tbody tr th:only-of-type {\n",
       "        vertical-align: middle;\n",
       "    }\n",
       "\n",
       "    .dataframe tbody tr th {\n",
       "        vertical-align: top;\n",
       "    }\n",
       "\n",
       "    .dataframe thead th {\n",
       "        text-align: right;\n",
       "    }\n",
       "</style>\n",
       "<table border=\"1\" class=\"dataframe\">\n",
       "  <thead>\n",
       "    <tr style=\"text-align: right;\">\n",
       "      <th></th>\n",
       "      <th>Day of Week</th>\n",
       "      <th>Is Start of Month</th>\n",
       "      <th>High</th>\n",
       "      <th>Low</th>\n",
       "      <th>Open</th>\n",
       "      <th>Close</th>\n",
       "      <th>Volume</th>\n",
       "      <th>Adj Close</th>\n",
       "    </tr>\n",
       "    <tr>\n",
       "      <th>Date</th>\n",
       "      <th></th>\n",
       "      <th></th>\n",
       "      <th></th>\n",
       "      <th></th>\n",
       "      <th></th>\n",
       "      <th></th>\n",
       "      <th></th>\n",
       "      <th></th>\n",
       "    </tr>\n",
       "  </thead>\n",
       "  <tbody>\n",
       "    <tr>\n",
       "      <td>2013-01-02</td>\n",
       "      <td>Wednesday</td>\n",
       "      <td>False</td>\n",
       "      <td>14.40</td>\n",
       "      <td>13.96</td>\n",
       "      <td>14.01</td>\n",
       "      <td>14.10</td>\n",
       "      <td>214600</td>\n",
       "      <td>14.10</td>\n",
       "    </tr>\n",
       "    <tr>\n",
       "      <td>2013-01-03</td>\n",
       "      <td>Thursday</td>\n",
       "      <td>False</td>\n",
       "      <td>14.17</td>\n",
       "      <td>13.90</td>\n",
       "      <td>14.09</td>\n",
       "      <td>13.99</td>\n",
       "      <td>139800</td>\n",
       "      <td>13.99</td>\n",
       "    </tr>\n",
       "    <tr>\n",
       "      <td>2013-01-04</td>\n",
       "      <td>Friday</td>\n",
       "      <td>False</td>\n",
       "      <td>14.22</td>\n",
       "      <td>13.91</td>\n",
       "      <td>14.08</td>\n",
       "      <td>14.16</td>\n",
       "      <td>219900</td>\n",
       "      <td>14.16</td>\n",
       "    </tr>\n",
       "  </tbody>\n",
       "</table>\n",
       "</div>"
      ],
      "text/plain": [
       "           Day of Week  Is Start of Month   High    Low   Open  Close  Volume  \\\n",
       "Date                                                                            \n",
       "2013-01-02   Wednesday              False  14.40  13.96  14.01  14.10  214600   \n",
       "2013-01-03    Thursday              False  14.17  13.90  14.09  13.99  139800   \n",
       "2013-01-04      Friday              False  14.22  13.91  14.08  14.16  219900   \n",
       "\n",
       "            Adj Close  \n",
       "Date                   \n",
       "2013-01-02      14.10  \n",
       "2013-01-03      13.99  \n",
       "2013-01-04      14.16  "
      ]
     },
     "execution_count": 60,
     "metadata": {},
     "output_type": "execute_result"
    }
   ],
   "source": [
    "stocks.insert(loc=1, column = \"Is Start of Month\", value=stocks.index.is_month_start)\n",
    "stocks.head(n=3)"
   ]
  },
  {
   "cell_type": "code",
   "execution_count": 61,
   "metadata": {},
   "outputs": [
    {
     "data": {
      "text/html": [
       "<div>\n",
       "<style scoped>\n",
       "    .dataframe tbody tr th:only-of-type {\n",
       "        vertical-align: middle;\n",
       "    }\n",
       "\n",
       "    .dataframe tbody tr th {\n",
       "        vertical-align: top;\n",
       "    }\n",
       "\n",
       "    .dataframe thead th {\n",
       "        text-align: right;\n",
       "    }\n",
       "</style>\n",
       "<table border=\"1\" class=\"dataframe\">\n",
       "  <thead>\n",
       "    <tr style=\"text-align: right;\">\n",
       "      <th></th>\n",
       "      <th>Day of Week</th>\n",
       "      <th>Is Start of Month</th>\n",
       "      <th>High</th>\n",
       "      <th>Low</th>\n",
       "      <th>Open</th>\n",
       "      <th>Close</th>\n",
       "      <th>Volume</th>\n",
       "      <th>Adj Close</th>\n",
       "    </tr>\n",
       "    <tr>\n",
       "      <th>Date</th>\n",
       "      <th></th>\n",
       "      <th></th>\n",
       "      <th></th>\n",
       "      <th></th>\n",
       "      <th></th>\n",
       "      <th></th>\n",
       "      <th></th>\n",
       "      <th></th>\n",
       "    </tr>\n",
       "  </thead>\n",
       "  <tbody>\n",
       "    <tr>\n",
       "      <td>2013-02-01</td>\n",
       "      <td>Friday</td>\n",
       "      <td>True</td>\n",
       "      <td>14.950000</td>\n",
       "      <td>14.740000</td>\n",
       "      <td>14.810000</td>\n",
       "      <td>14.850000</td>\n",
       "      <td>151600</td>\n",
       "      <td>14.850000</td>\n",
       "    </tr>\n",
       "    <tr>\n",
       "      <td>2013-03-01</td>\n",
       "      <td>Friday</td>\n",
       "      <td>True</td>\n",
       "      <td>16.250000</td>\n",
       "      <td>15.760000</td>\n",
       "      <td>15.790000</td>\n",
       "      <td>16.180000</td>\n",
       "      <td>187300</td>\n",
       "      <td>16.180000</td>\n",
       "    </tr>\n",
       "    <tr>\n",
       "      <td>2013-04-01</td>\n",
       "      <td>Monday</td>\n",
       "      <td>True</td>\n",
       "      <td>16.809999</td>\n",
       "      <td>16.280001</td>\n",
       "      <td>16.809999</td>\n",
       "      <td>16.459999</td>\n",
       "      <td>103200</td>\n",
       "      <td>16.459999</td>\n",
       "    </tr>\n",
       "  </tbody>\n",
       "</table>\n",
       "</div>"
      ],
      "text/plain": [
       "           Day of Week  Is Start of Month       High        Low       Open  \\\n",
       "Date                                                                         \n",
       "2013-02-01      Friday               True  14.950000  14.740000  14.810000   \n",
       "2013-03-01      Friday               True  16.250000  15.760000  15.790000   \n",
       "2013-04-01      Monday               True  16.809999  16.280001  16.809999   \n",
       "\n",
       "                Close  Volume  Adj Close  \n",
       "Date                                      \n",
       "2013-02-01  14.850000  151600  14.850000  \n",
       "2013-03-01  16.180000  187300  16.180000  \n",
       "2013-04-01  16.459999  103200  16.459999  "
      ]
     },
     "execution_count": 61,
     "metadata": {},
     "output_type": "execute_result"
    }
   ],
   "source": [
    "stocks[stocks[\"Is Start of Month\"]].head(n=3)"
   ]
  },
  {
   "cell_type": "markdown",
   "metadata": {},
   "source": [
    "<a id='12'></a>\n",
    "### 12. The `.truncate()` Method"
   ]
  },
  {
   "cell_type": "code",
   "execution_count": 62,
   "metadata": {},
   "outputs": [
    {
     "data": {
      "text/html": [
       "<div>\n",
       "<style scoped>\n",
       "    .dataframe tbody tr th:only-of-type {\n",
       "        vertical-align: middle;\n",
       "    }\n",
       "\n",
       "    .dataframe tbody tr th {\n",
       "        vertical-align: top;\n",
       "    }\n",
       "\n",
       "    .dataframe thead th {\n",
       "        text-align: right;\n",
       "    }\n",
       "</style>\n",
       "<table border=\"1\" class=\"dataframe\">\n",
       "  <thead>\n",
       "    <tr style=\"text-align: right;\">\n",
       "      <th></th>\n",
       "      <th>High</th>\n",
       "      <th>Low</th>\n",
       "      <th>Open</th>\n",
       "      <th>Close</th>\n",
       "      <th>Volume</th>\n",
       "      <th>Adj Close</th>\n",
       "    </tr>\n",
       "    <tr>\n",
       "      <th>Date</th>\n",
       "      <th></th>\n",
       "      <th></th>\n",
       "      <th></th>\n",
       "      <th></th>\n",
       "      <th></th>\n",
       "      <th></th>\n",
       "    </tr>\n",
       "  </thead>\n",
       "  <tbody>\n",
       "    <tr>\n",
       "      <td>2013-01-02</td>\n",
       "      <td>14.40</td>\n",
       "      <td>13.96</td>\n",
       "      <td>14.01</td>\n",
       "      <td>14.10</td>\n",
       "      <td>214600</td>\n",
       "      <td>14.10</td>\n",
       "    </tr>\n",
       "    <tr>\n",
       "      <td>2013-01-03</td>\n",
       "      <td>14.17</td>\n",
       "      <td>13.90</td>\n",
       "      <td>14.09</td>\n",
       "      <td>13.99</td>\n",
       "      <td>139800</td>\n",
       "      <td>13.99</td>\n",
       "    </tr>\n",
       "    <tr>\n",
       "      <td>2013-01-04</td>\n",
       "      <td>14.22</td>\n",
       "      <td>13.91</td>\n",
       "      <td>14.08</td>\n",
       "      <td>14.16</td>\n",
       "      <td>219900</td>\n",
       "      <td>14.16</td>\n",
       "    </tr>\n",
       "  </tbody>\n",
       "</table>\n",
       "</div>"
      ],
      "text/plain": [
       "             High    Low   Open  Close  Volume  Adj Close\n",
       "Date                                                     \n",
       "2013-01-02  14.40  13.96  14.01  14.10  214600      14.10\n",
       "2013-01-03  14.17  13.90  14.09  13.99  139800      13.99\n",
       "2013-01-04  14.22  13.91  14.08  14.16  219900      14.16"
      ]
     },
     "execution_count": 62,
     "metadata": {},
     "output_type": "execute_result"
    }
   ],
   "source": [
    "company = \"MSFT\"\n",
    "start = \"2013-01-01\"\n",
    "end = \"2020-12-31\"\n",
    "stocks = data.DataReader(name=\"SCOR\",data_source=\"yahoo\", start=start, end=end)\n",
    "stocks.head(n=3)"
   ]
  },
  {
   "cell_type": "code",
   "execution_count": 63,
   "metadata": {},
   "outputs": [
    {
     "data": {
      "text/html": [
       "<div>\n",
       "<style scoped>\n",
       "    .dataframe tbody tr th:only-of-type {\n",
       "        vertical-align: middle;\n",
       "    }\n",
       "\n",
       "    .dataframe tbody tr th {\n",
       "        vertical-align: top;\n",
       "    }\n",
       "\n",
       "    .dataframe thead th {\n",
       "        text-align: right;\n",
       "    }\n",
       "</style>\n",
       "<table border=\"1\" class=\"dataframe\">\n",
       "  <thead>\n",
       "    <tr style=\"text-align: right;\">\n",
       "      <th></th>\n",
       "      <th>High</th>\n",
       "      <th>Low</th>\n",
       "      <th>Open</th>\n",
       "      <th>Close</th>\n",
       "      <th>Volume</th>\n",
       "      <th>Adj Close</th>\n",
       "    </tr>\n",
       "    <tr>\n",
       "      <th>Date</th>\n",
       "      <th></th>\n",
       "      <th></th>\n",
       "      <th></th>\n",
       "      <th></th>\n",
       "      <th></th>\n",
       "      <th></th>\n",
       "    </tr>\n",
       "  </thead>\n",
       "  <tbody>\n",
       "    <tr>\n",
       "      <td>2014-02-05</td>\n",
       "      <td>26.879999</td>\n",
       "      <td>25.980000</td>\n",
       "      <td>26.480000</td>\n",
       "      <td>26.629999</td>\n",
       "      <td>208000</td>\n",
       "      <td>26.629999</td>\n",
       "    </tr>\n",
       "    <tr>\n",
       "      <td>2014-02-06</td>\n",
       "      <td>27.299999</td>\n",
       "      <td>26.690001</td>\n",
       "      <td>26.690001</td>\n",
       "      <td>27.160000</td>\n",
       "      <td>148500</td>\n",
       "      <td>27.160000</td>\n",
       "    </tr>\n",
       "    <tr>\n",
       "      <td>2014-02-07</td>\n",
       "      <td>27.650000</td>\n",
       "      <td>27.020000</td>\n",
       "      <td>27.190001</td>\n",
       "      <td>27.510000</td>\n",
       "      <td>207700</td>\n",
       "      <td>27.510000</td>\n",
       "    </tr>\n",
       "    <tr>\n",
       "      <td>2014-02-10</td>\n",
       "      <td>27.980000</td>\n",
       "      <td>27.200001</td>\n",
       "      <td>27.420000</td>\n",
       "      <td>27.799999</td>\n",
       "      <td>219200</td>\n",
       "      <td>27.799999</td>\n",
       "    </tr>\n",
       "    <tr>\n",
       "      <td>2014-02-11</td>\n",
       "      <td>31.250000</td>\n",
       "      <td>29.100000</td>\n",
       "      <td>30.969999</td>\n",
       "      <td>31.000000</td>\n",
       "      <td>1728400</td>\n",
       "      <td>31.000000</td>\n",
       "    </tr>\n",
       "    <tr>\n",
       "      <td>...</td>\n",
       "      <td>...</td>\n",
       "      <td>...</td>\n",
       "      <td>...</td>\n",
       "      <td>...</td>\n",
       "      <td>...</td>\n",
       "      <td>...</td>\n",
       "    </tr>\n",
       "    <tr>\n",
       "      <td>2018-01-26</td>\n",
       "      <td>23.900000</td>\n",
       "      <td>23.580000</td>\n",
       "      <td>23.900000</td>\n",
       "      <td>23.750000</td>\n",
       "      <td>152800</td>\n",
       "      <td>23.750000</td>\n",
       "    </tr>\n",
       "    <tr>\n",
       "      <td>2018-01-29</td>\n",
       "      <td>23.750000</td>\n",
       "      <td>23.549999</td>\n",
       "      <td>23.750000</td>\n",
       "      <td>23.620001</td>\n",
       "      <td>87200</td>\n",
       "      <td>23.620001</td>\n",
       "    </tr>\n",
       "    <tr>\n",
       "      <td>2018-01-30</td>\n",
       "      <td>23.600000</td>\n",
       "      <td>23.000000</td>\n",
       "      <td>23.500000</td>\n",
       "      <td>23.030001</td>\n",
       "      <td>54100</td>\n",
       "      <td>23.030001</td>\n",
       "    </tr>\n",
       "    <tr>\n",
       "      <td>2018-01-31</td>\n",
       "      <td>23.049999</td>\n",
       "      <td>22.500000</td>\n",
       "      <td>23.010000</td>\n",
       "      <td>22.650000</td>\n",
       "      <td>591700</td>\n",
       "      <td>22.650000</td>\n",
       "    </tr>\n",
       "    <tr>\n",
       "      <td>2018-02-01</td>\n",
       "      <td>22.700001</td>\n",
       "      <td>22.410000</td>\n",
       "      <td>22.650000</td>\n",
       "      <td>22.650000</td>\n",
       "      <td>44100</td>\n",
       "      <td>22.650000</td>\n",
       "    </tr>\n",
       "  </tbody>\n",
       "</table>\n",
       "<p>1006 rows × 6 columns</p>\n",
       "</div>"
      ],
      "text/plain": [
       "                 High        Low       Open      Close   Volume  Adj Close\n",
       "Date                                                                      \n",
       "2014-02-05  26.879999  25.980000  26.480000  26.629999   208000  26.629999\n",
       "2014-02-06  27.299999  26.690001  26.690001  27.160000   148500  27.160000\n",
       "2014-02-07  27.650000  27.020000  27.190001  27.510000   207700  27.510000\n",
       "2014-02-10  27.980000  27.200001  27.420000  27.799999   219200  27.799999\n",
       "2014-02-11  31.250000  29.100000  30.969999  31.000000  1728400  31.000000\n",
       "...               ...        ...        ...        ...      ...        ...\n",
       "2018-01-26  23.900000  23.580000  23.900000  23.750000   152800  23.750000\n",
       "2018-01-29  23.750000  23.549999  23.750000  23.620001    87200  23.620001\n",
       "2018-01-30  23.600000  23.000000  23.500000  23.030001    54100  23.030001\n",
       "2018-01-31  23.049999  22.500000  23.010000  22.650000   591700  22.650000\n",
       "2018-02-01  22.700001  22.410000  22.650000  22.650000    44100  22.650000\n",
       "\n",
       "[1006 rows x 6 columns]"
      ]
     },
     "execution_count": 63,
     "metadata": {},
     "output_type": "execute_result"
    }
   ],
   "source": [
    "stocks.truncate(before='2014-02-05', after='2018-02-01')"
   ]
  },
  {
   "cell_type": "markdown",
   "metadata": {},
   "source": [
    "<a id='13'></a>\n",
    "### 13. `pd.DateOffset` Objects"
   ]
  },
  {
   "cell_type": "code",
   "execution_count": 64,
   "metadata": {},
   "outputs": [
    {
     "data": {
      "text/html": [
       "<div>\n",
       "<style scoped>\n",
       "    .dataframe tbody tr th:only-of-type {\n",
       "        vertical-align: middle;\n",
       "    }\n",
       "\n",
       "    .dataframe tbody tr th {\n",
       "        vertical-align: top;\n",
       "    }\n",
       "\n",
       "    .dataframe thead th {\n",
       "        text-align: right;\n",
       "    }\n",
       "</style>\n",
       "<table border=\"1\" class=\"dataframe\">\n",
       "  <thead>\n",
       "    <tr style=\"text-align: right;\">\n",
       "      <th></th>\n",
       "      <th>High</th>\n",
       "      <th>Low</th>\n",
       "      <th>Open</th>\n",
       "      <th>Close</th>\n",
       "      <th>Volume</th>\n",
       "      <th>Adj Close</th>\n",
       "    </tr>\n",
       "    <tr>\n",
       "      <th>Date</th>\n",
       "      <th></th>\n",
       "      <th></th>\n",
       "      <th></th>\n",
       "      <th></th>\n",
       "      <th></th>\n",
       "      <th></th>\n",
       "    </tr>\n",
       "  </thead>\n",
       "  <tbody>\n",
       "    <tr>\n",
       "      <td>2007-06-27</td>\n",
       "      <td>24.389999</td>\n",
       "      <td>19.700001</td>\n",
       "      <td>22.000000</td>\n",
       "      <td>23.469999</td>\n",
       "      <td>0</td>\n",
       "      <td>23.469999</td>\n",
       "    </tr>\n",
       "    <tr>\n",
       "      <td>2007-06-28</td>\n",
       "      <td>26.270000</td>\n",
       "      <td>22.500000</td>\n",
       "      <td>23.889999</td>\n",
       "      <td>25.590000</td>\n",
       "      <td>804300</td>\n",
       "      <td>25.590000</td>\n",
       "    </tr>\n",
       "    <tr>\n",
       "      <td>2007-06-29</td>\n",
       "      <td>26.200001</td>\n",
       "      <td>22.260000</td>\n",
       "      <td>26.200001</td>\n",
       "      <td>23.150000</td>\n",
       "      <td>604000</td>\n",
       "      <td>23.150000</td>\n",
       "    </tr>\n",
       "  </tbody>\n",
       "</table>\n",
       "</div>"
      ],
      "text/plain": [
       "                 High        Low       Open      Close  Volume  Adj Close\n",
       "Date                                                                     \n",
       "2007-06-27  24.389999  19.700001  22.000000  23.469999       0  23.469999\n",
       "2007-06-28  26.270000  22.500000  23.889999  25.590000  804300  25.590000\n",
       "2007-06-29  26.200001  22.260000  26.200001  23.150000  604000  23.150000"
      ]
     },
     "execution_count": 64,
     "metadata": {},
     "output_type": "execute_result"
    },
    {
     "data": {
      "text/html": [
       "<div>\n",
       "<style scoped>\n",
       "    .dataframe tbody tr th:only-of-type {\n",
       "        vertical-align: middle;\n",
       "    }\n",
       "\n",
       "    .dataframe tbody tr th {\n",
       "        vertical-align: top;\n",
       "    }\n",
       "\n",
       "    .dataframe thead th {\n",
       "        text-align: right;\n",
       "    }\n",
       "</style>\n",
       "<table border=\"1\" class=\"dataframe\">\n",
       "  <thead>\n",
       "    <tr style=\"text-align: right;\">\n",
       "      <th></th>\n",
       "      <th>High</th>\n",
       "      <th>Low</th>\n",
       "      <th>Open</th>\n",
       "      <th>Close</th>\n",
       "      <th>Volume</th>\n",
       "      <th>Adj Close</th>\n",
       "    </tr>\n",
       "    <tr>\n",
       "      <th>Date</th>\n",
       "      <th></th>\n",
       "      <th></th>\n",
       "      <th></th>\n",
       "      <th></th>\n",
       "      <th></th>\n",
       "      <th></th>\n",
       "    </tr>\n",
       "  </thead>\n",
       "  <tbody>\n",
       "    <tr>\n",
       "      <td>2020-01-07</td>\n",
       "      <td>5.06</td>\n",
       "      <td>4.90</td>\n",
       "      <td>4.95</td>\n",
       "      <td>4.97</td>\n",
       "      <td>320200</td>\n",
       "      <td>4.97</td>\n",
       "    </tr>\n",
       "    <tr>\n",
       "      <td>2020-01-08</td>\n",
       "      <td>5.22</td>\n",
       "      <td>4.91</td>\n",
       "      <td>4.96</td>\n",
       "      <td>5.13</td>\n",
       "      <td>486200</td>\n",
       "      <td>5.13</td>\n",
       "    </tr>\n",
       "    <tr>\n",
       "      <td>2020-01-09</td>\n",
       "      <td>5.31</td>\n",
       "      <td>5.06</td>\n",
       "      <td>5.15</td>\n",
       "      <td>5.20</td>\n",
       "      <td>310707</td>\n",
       "      <td>5.20</td>\n",
       "    </tr>\n",
       "  </tbody>\n",
       "</table>\n",
       "</div>"
      ],
      "text/plain": [
       "            High   Low  Open  Close  Volume  Adj Close\n",
       "Date                                                  \n",
       "2020-01-07  5.06  4.90  4.95   4.97  320200       4.97\n",
       "2020-01-08  5.22  4.91  4.96   5.13  486200       5.13\n",
       "2020-01-09  5.31  5.06  5.15   5.20  310707       5.20"
      ]
     },
     "execution_count": 64,
     "metadata": {},
     "output_type": "execute_result"
    }
   ],
   "source": [
    "company = \"MSFT\"\n",
    "start = \"2013-01-01\"\n",
    "end = \"2020-12-31\"\n",
    "stocks = data.DataReader(name=\"SCOR\",data_source=\"yahoo\", start=dt.date(2000,1,1),\n",
    "                         end=dt.datetime.now())\n",
    "stocks.head(n=3)\n",
    "stocks.tail(n=3)"
   ]
  },
  {
   "cell_type": "code",
   "execution_count": 65,
   "metadata": {},
   "outputs": [
    {
     "data": {
      "text/plain": [
       "DatetimeIndex(['2007-06-27', '2007-06-28', '2007-06-29', '2007-07-02',\n",
       "               '2007-07-03', '2007-07-05', '2007-07-06', '2007-07-09',\n",
       "               '2007-07-10', '2007-07-11',\n",
       "               ...\n",
       "               '2019-12-26', '2019-12-27', '2019-12-30', '2019-12-31',\n",
       "               '2020-01-02', '2020-01-03', '2020-01-06', '2020-01-07',\n",
       "               '2020-01-08', '2020-01-09'],\n",
       "              dtype='datetime64[ns]', name='Date', length=3157, freq=None)"
      ]
     },
     "execution_count": 65,
     "metadata": {},
     "output_type": "execute_result"
    }
   ],
   "source": [
    "stocks.index"
   ]
  },
  {
   "cell_type": "code",
   "execution_count": 66,
   "metadata": {},
   "outputs": [
    {
     "data": {
      "text/plain": [
       "DatetimeIndex(['2007-07-02', '2007-07-03', '2007-07-04', '2007-07-07',\n",
       "               '2007-07-08', '2007-07-10', '2007-07-11', '2007-07-14',\n",
       "               '2007-07-15', '2007-07-16',\n",
       "               ...\n",
       "               '2019-12-31', '2020-01-01', '2020-01-04', '2020-01-05',\n",
       "               '2020-01-07', '2020-01-08', '2020-01-11', '2020-01-12',\n",
       "               '2020-01-13', '2020-01-14'],\n",
       "              dtype='datetime64[ns]', name='Date', length=3157, freq=None)"
      ]
     },
     "execution_count": 66,
     "metadata": {},
     "output_type": "execute_result"
    },
    {
     "data": {
      "text/plain": [
       "DatetimeIndex(['2007-07-11', '2007-07-12', '2007-07-13', '2007-07-16',\n",
       "               '2007-07-17', '2007-07-19', '2007-07-20', '2007-07-23',\n",
       "               '2007-07-24', '2007-07-25',\n",
       "               ...\n",
       "               '2020-01-09', '2020-01-10', '2020-01-13', '2020-01-14',\n",
       "               '2020-01-16', '2020-01-17', '2020-01-20', '2020-01-21',\n",
       "               '2020-01-22', '2020-01-23'],\n",
       "              dtype='datetime64[ns]', name='Date', length=3157, freq=None)"
      ]
     },
     "execution_count": 66,
     "metadata": {},
     "output_type": "execute_result"
    },
    {
     "data": {
      "text/plain": [
       "DatetimeIndex(['1987-06-27', '1987-06-28', '1987-06-29', '1987-07-02',\n",
       "               '1987-07-03', '1987-07-05', '1987-07-06', '1987-07-09',\n",
       "               '1987-07-10', '1987-07-11',\n",
       "               ...\n",
       "               '1999-12-26', '1999-12-27', '1999-12-30', '1999-12-31',\n",
       "               '2000-01-02', '2000-01-03', '2000-01-06', '2000-01-07',\n",
       "               '2000-01-08', '2000-01-09'],\n",
       "              dtype='datetime64[ns]', name='Date', length=3157, freq=None)"
      ]
     },
     "execution_count": 66,
     "metadata": {},
     "output_type": "execute_result"
    }
   ],
   "source": [
    "stocks.index + pd.DateOffset(days=5)\n",
    "stocks.index + pd.DateOffset(weeks=2)\n",
    "stocks.index - pd.DateOffset(years=20)"
   ]
  },
  {
   "cell_type": "code",
   "execution_count": 67,
   "metadata": {},
   "outputs": [
    {
     "data": {
      "text/plain": [
       "DatetimeIndex(['2007-07-02 03:00:00', '2007-07-03 03:00:00',\n",
       "               '2007-07-04 03:00:00', '2007-07-07 03:00:00',\n",
       "               '2007-07-08 03:00:00', '2007-07-10 03:00:00',\n",
       "               '2007-07-11 03:00:00', '2007-07-14 03:00:00',\n",
       "               '2007-07-15 03:00:00', '2007-07-16 03:00:00',\n",
       "               ...\n",
       "               '2019-12-31 03:00:00', '2020-01-01 03:00:00',\n",
       "               '2020-01-04 03:00:00', '2020-01-05 03:00:00',\n",
       "               '2020-01-07 03:00:00', '2020-01-08 03:00:00',\n",
       "               '2020-01-11 03:00:00', '2020-01-12 03:00:00',\n",
       "               '2020-01-13 03:00:00', '2020-01-14 03:00:00'],\n",
       "              dtype='datetime64[ns]', name='Date', length=3157, freq=None)"
      ]
     },
     "execution_count": 67,
     "metadata": {},
     "output_type": "execute_result"
    },
    {
     "data": {
      "text/plain": [
       "DatetimeIndex(['2007-06-16', '2007-06-16', '2007-06-16', '2007-07-16',\n",
       "               '2007-07-16', '2007-07-16', '2007-07-16', '2007-07-16',\n",
       "               '2007-07-16', '2007-07-16',\n",
       "               ...\n",
       "               '2019-12-16', '2019-12-16', '2019-12-16', '2019-12-16',\n",
       "               '2020-01-16', '2020-01-16', '2020-01-16', '2020-01-16',\n",
       "               '2020-01-16', '2020-01-16'],\n",
       "              dtype='datetime64[ns]', name='Date', length=3157, freq=None)"
      ]
     },
     "execution_count": 67,
     "metadata": {},
     "output_type": "execute_result"
    },
    {
     "data": {
      "text/plain": [
       "DatetimeIndex(['1987-02-26 21:28:00', '1987-02-27 21:28:00',\n",
       "               '1987-02-27 21:28:00', '1987-03-01 21:28:00',\n",
       "               '1987-03-02 21:28:00', '1987-03-04 21:28:00',\n",
       "               '1987-03-05 21:28:00', '1987-03-08 21:28:00',\n",
       "               '1987-03-09 21:28:00', '1987-03-10 21:28:00',\n",
       "               ...\n",
       "               '1999-08-25 21:28:00', '1999-08-26 21:28:00',\n",
       "               '1999-08-29 21:28:00', '1999-08-30 21:28:00',\n",
       "               '1999-09-01 21:28:00', '1999-09-02 21:28:00',\n",
       "               '1999-09-05 21:28:00', '1999-09-06 21:28:00',\n",
       "               '1999-09-07 21:28:00', '1999-09-08 21:28:00'],\n",
       "              dtype='datetime64[ns]', name='Date', length=3157, freq=None)"
      ]
     },
     "execution_count": 67,
     "metadata": {},
     "output_type": "execute_result"
    }
   ],
   "source": [
    "stocks.index + pd.DateOffset(days=5, hours=3)\n",
    "stocks.index + pd.DateOffset(weeks=2, day=2)\n",
    "stocks.index - pd.DateOffset(years=20, months=4, hours=2, minutes=32)"
   ]
  },
  {
   "cell_type": "markdown",
   "metadata": {},
   "source": [
    "<a id='14'></a>\n",
    "### 14. More fun with `pd.DateOffset` Objects"
   ]
  },
  {
   "cell_type": "code",
   "execution_count": 68,
   "metadata": {},
   "outputs": [
    {
     "data": {
      "text/html": [
       "<div>\n",
       "<style scoped>\n",
       "    .dataframe tbody tr th:only-of-type {\n",
       "        vertical-align: middle;\n",
       "    }\n",
       "\n",
       "    .dataframe tbody tr th {\n",
       "        vertical-align: top;\n",
       "    }\n",
       "\n",
       "    .dataframe thead th {\n",
       "        text-align: right;\n",
       "    }\n",
       "</style>\n",
       "<table border=\"1\" class=\"dataframe\">\n",
       "  <thead>\n",
       "    <tr style=\"text-align: right;\">\n",
       "      <th></th>\n",
       "      <th>High</th>\n",
       "      <th>Low</th>\n",
       "      <th>Open</th>\n",
       "      <th>Close</th>\n",
       "      <th>Volume</th>\n",
       "      <th>Adj Close</th>\n",
       "    </tr>\n",
       "    <tr>\n",
       "      <th>Date</th>\n",
       "      <th></th>\n",
       "      <th></th>\n",
       "      <th></th>\n",
       "      <th></th>\n",
       "      <th></th>\n",
       "      <th></th>\n",
       "    </tr>\n",
       "  </thead>\n",
       "  <tbody>\n",
       "    <tr>\n",
       "      <td>2007-06-27</td>\n",
       "      <td>24.389999</td>\n",
       "      <td>19.700001</td>\n",
       "      <td>22.000000</td>\n",
       "      <td>23.469999</td>\n",
       "      <td>0</td>\n",
       "      <td>23.469999</td>\n",
       "    </tr>\n",
       "    <tr>\n",
       "      <td>2007-06-28</td>\n",
       "      <td>26.270000</td>\n",
       "      <td>22.500000</td>\n",
       "      <td>23.889999</td>\n",
       "      <td>25.590000</td>\n",
       "      <td>804300</td>\n",
       "      <td>25.590000</td>\n",
       "    </tr>\n",
       "    <tr>\n",
       "      <td>2007-06-29</td>\n",
       "      <td>26.200001</td>\n",
       "      <td>22.260000</td>\n",
       "      <td>26.200001</td>\n",
       "      <td>23.150000</td>\n",
       "      <td>604000</td>\n",
       "      <td>23.150000</td>\n",
       "    </tr>\n",
       "  </tbody>\n",
       "</table>\n",
       "</div>"
      ],
      "text/plain": [
       "                 High        Low       Open      Close  Volume  Adj Close\n",
       "Date                                                                     \n",
       "2007-06-27  24.389999  19.700001  22.000000  23.469999       0  23.469999\n",
       "2007-06-28  26.270000  22.500000  23.889999  25.590000  804300  25.590000\n",
       "2007-06-29  26.200001  22.260000  26.200001  23.150000  604000  23.150000"
      ]
     },
     "execution_count": 68,
     "metadata": {},
     "output_type": "execute_result"
    },
    {
     "data": {
      "text/html": [
       "<div>\n",
       "<style scoped>\n",
       "    .dataframe tbody tr th:only-of-type {\n",
       "        vertical-align: middle;\n",
       "    }\n",
       "\n",
       "    .dataframe tbody tr th {\n",
       "        vertical-align: top;\n",
       "    }\n",
       "\n",
       "    .dataframe thead th {\n",
       "        text-align: right;\n",
       "    }\n",
       "</style>\n",
       "<table border=\"1\" class=\"dataframe\">\n",
       "  <thead>\n",
       "    <tr style=\"text-align: right;\">\n",
       "      <th></th>\n",
       "      <th>High</th>\n",
       "      <th>Low</th>\n",
       "      <th>Open</th>\n",
       "      <th>Close</th>\n",
       "      <th>Volume</th>\n",
       "      <th>Adj Close</th>\n",
       "    </tr>\n",
       "    <tr>\n",
       "      <th>Date</th>\n",
       "      <th></th>\n",
       "      <th></th>\n",
       "      <th></th>\n",
       "      <th></th>\n",
       "      <th></th>\n",
       "      <th></th>\n",
       "    </tr>\n",
       "  </thead>\n",
       "  <tbody>\n",
       "    <tr>\n",
       "      <td>2020-01-07</td>\n",
       "      <td>5.06</td>\n",
       "      <td>4.90</td>\n",
       "      <td>4.95</td>\n",
       "      <td>4.97</td>\n",
       "      <td>320200</td>\n",
       "      <td>4.97</td>\n",
       "    </tr>\n",
       "    <tr>\n",
       "      <td>2020-01-08</td>\n",
       "      <td>5.22</td>\n",
       "      <td>4.91</td>\n",
       "      <td>4.96</td>\n",
       "      <td>5.13</td>\n",
       "      <td>486200</td>\n",
       "      <td>5.13</td>\n",
       "    </tr>\n",
       "    <tr>\n",
       "      <td>2020-01-09</td>\n",
       "      <td>5.31</td>\n",
       "      <td>5.06</td>\n",
       "      <td>5.15</td>\n",
       "      <td>5.20</td>\n",
       "      <td>310707</td>\n",
       "      <td>5.20</td>\n",
       "    </tr>\n",
       "  </tbody>\n",
       "</table>\n",
       "</div>"
      ],
      "text/plain": [
       "            High   Low  Open  Close  Volume  Adj Close\n",
       "Date                                                  \n",
       "2020-01-07  5.06  4.90  4.95   4.97  320200       4.97\n",
       "2020-01-08  5.22  4.91  4.96   5.13  486200       5.13\n",
       "2020-01-09  5.31  5.06  5.15   5.20  310707       5.20"
      ]
     },
     "execution_count": 68,
     "metadata": {},
     "output_type": "execute_result"
    }
   ],
   "source": [
    "company = \"SCOR\"\n",
    "start = \"2013-01-01\"\n",
    "end = \"2020-12-31\"\n",
    "stocks = data.DataReader(name=company,data_source=\"yahoo\", start=dt.date(2000,1,1),\n",
    "                         end=dt.datetime.now())\n",
    "stocks.head(n=3)\n",
    "stocks.tail(n=3)"
   ]
  },
  {
   "cell_type": "code",
   "execution_count": 69,
   "metadata": {},
   "outputs": [
    {
     "data": {
      "text/html": [
       "<div>\n",
       "<style scoped>\n",
       "    .dataframe tbody tr th:only-of-type {\n",
       "        vertical-align: middle;\n",
       "    }\n",
       "\n",
       "    .dataframe tbody tr th {\n",
       "        vertical-align: top;\n",
       "    }\n",
       "\n",
       "    .dataframe thead th {\n",
       "        text-align: right;\n",
       "    }\n",
       "</style>\n",
       "<table border=\"1\" class=\"dataframe\">\n",
       "  <thead>\n",
       "    <tr style=\"text-align: right;\">\n",
       "      <th></th>\n",
       "      <th>High</th>\n",
       "      <th>Low</th>\n",
       "      <th>Open</th>\n",
       "      <th>Close</th>\n",
       "      <th>Volume</th>\n",
       "      <th>Adj Close</th>\n",
       "      <th>new_date</th>\n",
       "    </tr>\n",
       "    <tr>\n",
       "      <th>Date</th>\n",
       "      <th></th>\n",
       "      <th></th>\n",
       "      <th></th>\n",
       "      <th></th>\n",
       "      <th></th>\n",
       "      <th></th>\n",
       "      <th></th>\n",
       "    </tr>\n",
       "  </thead>\n",
       "  <tbody>\n",
       "    <tr>\n",
       "      <td>2007-06-27</td>\n",
       "      <td>24.389999</td>\n",
       "      <td>19.700001</td>\n",
       "      <td>22.000000</td>\n",
       "      <td>23.469999</td>\n",
       "      <td>0</td>\n",
       "      <td>23.469999</td>\n",
       "      <td>2007-06-30</td>\n",
       "    </tr>\n",
       "    <tr>\n",
       "      <td>2007-06-28</td>\n",
       "      <td>26.270000</td>\n",
       "      <td>22.500000</td>\n",
       "      <td>23.889999</td>\n",
       "      <td>25.590000</td>\n",
       "      <td>804300</td>\n",
       "      <td>25.590000</td>\n",
       "      <td>2007-06-30</td>\n",
       "    </tr>\n",
       "    <tr>\n",
       "      <td>2007-06-29</td>\n",
       "      <td>26.200001</td>\n",
       "      <td>22.260000</td>\n",
       "      <td>26.200001</td>\n",
       "      <td>23.150000</td>\n",
       "      <td>604000</td>\n",
       "      <td>23.150000</td>\n",
       "      <td>2007-06-30</td>\n",
       "    </tr>\n",
       "    <tr>\n",
       "      <td>2007-07-02</td>\n",
       "      <td>23.490000</td>\n",
       "      <td>22.000000</td>\n",
       "      <td>23.490000</td>\n",
       "      <td>22.410000</td>\n",
       "      <td>324100</td>\n",
       "      <td>22.410000</td>\n",
       "      <td>2007-07-31</td>\n",
       "    </tr>\n",
       "    <tr>\n",
       "      <td>2007-07-03</td>\n",
       "      <td>22.770000</td>\n",
       "      <td>22.000000</td>\n",
       "      <td>22.770000</td>\n",
       "      <td>22.389999</td>\n",
       "      <td>86300</td>\n",
       "      <td>22.389999</td>\n",
       "      <td>2007-07-31</td>\n",
       "    </tr>\n",
       "    <tr>\n",
       "      <td>...</td>\n",
       "      <td>...</td>\n",
       "      <td>...</td>\n",
       "      <td>...</td>\n",
       "      <td>...</td>\n",
       "      <td>...</td>\n",
       "      <td>...</td>\n",
       "      <td>...</td>\n",
       "    </tr>\n",
       "    <tr>\n",
       "      <td>2020-01-03</td>\n",
       "      <td>5.000000</td>\n",
       "      <td>4.760000</td>\n",
       "      <td>4.760000</td>\n",
       "      <td>4.900000</td>\n",
       "      <td>383700</td>\n",
       "      <td>4.900000</td>\n",
       "      <td>2020-01-31</td>\n",
       "    </tr>\n",
       "    <tr>\n",
       "      <td>2020-01-06</td>\n",
       "      <td>5.000000</td>\n",
       "      <td>4.790000</td>\n",
       "      <td>4.900000</td>\n",
       "      <td>4.950000</td>\n",
       "      <td>466600</td>\n",
       "      <td>4.950000</td>\n",
       "      <td>2020-01-31</td>\n",
       "    </tr>\n",
       "    <tr>\n",
       "      <td>2020-01-07</td>\n",
       "      <td>5.060000</td>\n",
       "      <td>4.900000</td>\n",
       "      <td>4.950000</td>\n",
       "      <td>4.970000</td>\n",
       "      <td>320200</td>\n",
       "      <td>4.970000</td>\n",
       "      <td>2020-01-31</td>\n",
       "    </tr>\n",
       "    <tr>\n",
       "      <td>2020-01-08</td>\n",
       "      <td>5.220000</td>\n",
       "      <td>4.910000</td>\n",
       "      <td>4.960000</td>\n",
       "      <td>5.130000</td>\n",
       "      <td>486200</td>\n",
       "      <td>5.130000</td>\n",
       "      <td>2020-01-31</td>\n",
       "    </tr>\n",
       "    <tr>\n",
       "      <td>2020-01-09</td>\n",
       "      <td>5.310000</td>\n",
       "      <td>5.060000</td>\n",
       "      <td>5.150000</td>\n",
       "      <td>5.200000</td>\n",
       "      <td>310707</td>\n",
       "      <td>5.200000</td>\n",
       "      <td>2020-01-31</td>\n",
       "    </tr>\n",
       "  </tbody>\n",
       "</table>\n",
       "<p>3157 rows × 7 columns</p>\n",
       "</div>"
      ],
      "text/plain": [
       "                 High        Low       Open      Close  Volume  Adj Close  \\\n",
       "Date                                                                        \n",
       "2007-06-27  24.389999  19.700001  22.000000  23.469999       0  23.469999   \n",
       "2007-06-28  26.270000  22.500000  23.889999  25.590000  804300  25.590000   \n",
       "2007-06-29  26.200001  22.260000  26.200001  23.150000  604000  23.150000   \n",
       "2007-07-02  23.490000  22.000000  23.490000  22.410000  324100  22.410000   \n",
       "2007-07-03  22.770000  22.000000  22.770000  22.389999   86300  22.389999   \n",
       "...               ...        ...        ...        ...     ...        ...   \n",
       "2020-01-03   5.000000   4.760000   4.760000   4.900000  383700   4.900000   \n",
       "2020-01-06   5.000000   4.790000   4.900000   4.950000  466600   4.950000   \n",
       "2020-01-07   5.060000   4.900000   4.950000   4.970000  320200   4.970000   \n",
       "2020-01-08   5.220000   4.910000   4.960000   5.130000  486200   5.130000   \n",
       "2020-01-09   5.310000   5.060000   5.150000   5.200000  310707   5.200000   \n",
       "\n",
       "             new_date  \n",
       "Date                   \n",
       "2007-06-27 2007-06-30  \n",
       "2007-06-28 2007-06-30  \n",
       "2007-06-29 2007-06-30  \n",
       "2007-07-02 2007-07-31  \n",
       "2007-07-03 2007-07-31  \n",
       "...               ...  \n",
       "2020-01-03 2020-01-31  \n",
       "2020-01-06 2020-01-31  \n",
       "2020-01-07 2020-01-31  \n",
       "2020-01-08 2020-01-31  \n",
       "2020-01-09 2020-01-31  \n",
       "\n",
       "[3157 rows x 7 columns]"
      ]
     },
     "execution_count": 69,
     "metadata": {},
     "output_type": "execute_result"
    }
   ],
   "source": [
    "stocks[\"new_date\"] = stocks.index + pd.tseries.offsets.MonthEnd(n=1)\n",
    "stocks"
   ]
  },
  {
   "cell_type": "code",
   "execution_count": 70,
   "metadata": {},
   "outputs": [
    {
     "data": {
      "text/html": [
       "<div>\n",
       "<style scoped>\n",
       "    .dataframe tbody tr th:only-of-type {\n",
       "        vertical-align: middle;\n",
       "    }\n",
       "\n",
       "    .dataframe tbody tr th {\n",
       "        vertical-align: top;\n",
       "    }\n",
       "\n",
       "    .dataframe thead th {\n",
       "        text-align: right;\n",
       "    }\n",
       "</style>\n",
       "<table border=\"1\" class=\"dataframe\">\n",
       "  <thead>\n",
       "    <tr style=\"text-align: right;\">\n",
       "      <th></th>\n",
       "      <th>High</th>\n",
       "      <th>Low</th>\n",
       "      <th>Open</th>\n",
       "      <th>Close</th>\n",
       "      <th>Volume</th>\n",
       "      <th>Adj Close</th>\n",
       "      <th>new_date</th>\n",
       "      <th>new_date2</th>\n",
       "    </tr>\n",
       "    <tr>\n",
       "      <th>Date</th>\n",
       "      <th></th>\n",
       "      <th></th>\n",
       "      <th></th>\n",
       "      <th></th>\n",
       "      <th></th>\n",
       "      <th></th>\n",
       "      <th></th>\n",
       "      <th></th>\n",
       "    </tr>\n",
       "  </thead>\n",
       "  <tbody>\n",
       "    <tr>\n",
       "      <td>2007-06-27</td>\n",
       "      <td>24.389999</td>\n",
       "      <td>19.700001</td>\n",
       "      <td>22.000000</td>\n",
       "      <td>23.469999</td>\n",
       "      <td>0</td>\n",
       "      <td>23.469999</td>\n",
       "      <td>2007-06-30</td>\n",
       "      <td>2007-05-31</td>\n",
       "    </tr>\n",
       "    <tr>\n",
       "      <td>2007-06-28</td>\n",
       "      <td>26.270000</td>\n",
       "      <td>22.500000</td>\n",
       "      <td>23.889999</td>\n",
       "      <td>25.590000</td>\n",
       "      <td>804300</td>\n",
       "      <td>25.590000</td>\n",
       "      <td>2007-06-30</td>\n",
       "      <td>2007-05-31</td>\n",
       "    </tr>\n",
       "    <tr>\n",
       "      <td>2007-06-29</td>\n",
       "      <td>26.200001</td>\n",
       "      <td>22.260000</td>\n",
       "      <td>26.200001</td>\n",
       "      <td>23.150000</td>\n",
       "      <td>604000</td>\n",
       "      <td>23.150000</td>\n",
       "      <td>2007-06-30</td>\n",
       "      <td>2007-05-31</td>\n",
       "    </tr>\n",
       "    <tr>\n",
       "      <td>2007-07-02</td>\n",
       "      <td>23.490000</td>\n",
       "      <td>22.000000</td>\n",
       "      <td>23.490000</td>\n",
       "      <td>22.410000</td>\n",
       "      <td>324100</td>\n",
       "      <td>22.410000</td>\n",
       "      <td>2007-07-31</td>\n",
       "      <td>2007-06-30</td>\n",
       "    </tr>\n",
       "    <tr>\n",
       "      <td>2007-07-03</td>\n",
       "      <td>22.770000</td>\n",
       "      <td>22.000000</td>\n",
       "      <td>22.770000</td>\n",
       "      <td>22.389999</td>\n",
       "      <td>86300</td>\n",
       "      <td>22.389999</td>\n",
       "      <td>2007-07-31</td>\n",
       "      <td>2007-06-30</td>\n",
       "    </tr>\n",
       "    <tr>\n",
       "      <td>...</td>\n",
       "      <td>...</td>\n",
       "      <td>...</td>\n",
       "      <td>...</td>\n",
       "      <td>...</td>\n",
       "      <td>...</td>\n",
       "      <td>...</td>\n",
       "      <td>...</td>\n",
       "      <td>...</td>\n",
       "    </tr>\n",
       "    <tr>\n",
       "      <td>2020-01-03</td>\n",
       "      <td>5.000000</td>\n",
       "      <td>4.760000</td>\n",
       "      <td>4.760000</td>\n",
       "      <td>4.900000</td>\n",
       "      <td>383700</td>\n",
       "      <td>4.900000</td>\n",
       "      <td>2020-01-31</td>\n",
       "      <td>2019-12-31</td>\n",
       "    </tr>\n",
       "    <tr>\n",
       "      <td>2020-01-06</td>\n",
       "      <td>5.000000</td>\n",
       "      <td>4.790000</td>\n",
       "      <td>4.900000</td>\n",
       "      <td>4.950000</td>\n",
       "      <td>466600</td>\n",
       "      <td>4.950000</td>\n",
       "      <td>2020-01-31</td>\n",
       "      <td>2019-12-31</td>\n",
       "    </tr>\n",
       "    <tr>\n",
       "      <td>2020-01-07</td>\n",
       "      <td>5.060000</td>\n",
       "      <td>4.900000</td>\n",
       "      <td>4.950000</td>\n",
       "      <td>4.970000</td>\n",
       "      <td>320200</td>\n",
       "      <td>4.970000</td>\n",
       "      <td>2020-01-31</td>\n",
       "      <td>2019-12-31</td>\n",
       "    </tr>\n",
       "    <tr>\n",
       "      <td>2020-01-08</td>\n",
       "      <td>5.220000</td>\n",
       "      <td>4.910000</td>\n",
       "      <td>4.960000</td>\n",
       "      <td>5.130000</td>\n",
       "      <td>486200</td>\n",
       "      <td>5.130000</td>\n",
       "      <td>2020-01-31</td>\n",
       "      <td>2019-12-31</td>\n",
       "    </tr>\n",
       "    <tr>\n",
       "      <td>2020-01-09</td>\n",
       "      <td>5.310000</td>\n",
       "      <td>5.060000</td>\n",
       "      <td>5.150000</td>\n",
       "      <td>5.200000</td>\n",
       "      <td>310707</td>\n",
       "      <td>5.200000</td>\n",
       "      <td>2020-01-31</td>\n",
       "      <td>2019-12-31</td>\n",
       "    </tr>\n",
       "  </tbody>\n",
       "</table>\n",
       "<p>3157 rows × 8 columns</p>\n",
       "</div>"
      ],
      "text/plain": [
       "                 High        Low       Open      Close  Volume  Adj Close  \\\n",
       "Date                                                                        \n",
       "2007-06-27  24.389999  19.700001  22.000000  23.469999       0  23.469999   \n",
       "2007-06-28  26.270000  22.500000  23.889999  25.590000  804300  25.590000   \n",
       "2007-06-29  26.200001  22.260000  26.200001  23.150000  604000  23.150000   \n",
       "2007-07-02  23.490000  22.000000  23.490000  22.410000  324100  22.410000   \n",
       "2007-07-03  22.770000  22.000000  22.770000  22.389999   86300  22.389999   \n",
       "...               ...        ...        ...        ...     ...        ...   \n",
       "2020-01-03   5.000000   4.760000   4.760000   4.900000  383700   4.900000   \n",
       "2020-01-06   5.000000   4.790000   4.900000   4.950000  466600   4.950000   \n",
       "2020-01-07   5.060000   4.900000   4.950000   4.970000  320200   4.970000   \n",
       "2020-01-08   5.220000   4.910000   4.960000   5.130000  486200   5.130000   \n",
       "2020-01-09   5.310000   5.060000   5.150000   5.200000  310707   5.200000   \n",
       "\n",
       "             new_date  new_date2  \n",
       "Date                              \n",
       "2007-06-27 2007-06-30 2007-05-31  \n",
       "2007-06-28 2007-06-30 2007-05-31  \n",
       "2007-06-29 2007-06-30 2007-05-31  \n",
       "2007-07-02 2007-07-31 2007-06-30  \n",
       "2007-07-03 2007-07-31 2007-06-30  \n",
       "...               ...        ...  \n",
       "2020-01-03 2020-01-31 2019-12-31  \n",
       "2020-01-06 2020-01-31 2019-12-31  \n",
       "2020-01-07 2020-01-31 2019-12-31  \n",
       "2020-01-08 2020-01-31 2019-12-31  \n",
       "2020-01-09 2020-01-31 2019-12-31  \n",
       "\n",
       "[3157 rows x 8 columns]"
      ]
     },
     "execution_count": 70,
     "metadata": {},
     "output_type": "execute_result"
    }
   ],
   "source": [
    "stocks[\"new_date2\"] = stocks.index - pd.tseries.offsets.MonthEnd(n=1)\n",
    "stocks"
   ]
  },
  {
   "cell_type": "code",
   "execution_count": 71,
   "metadata": {},
   "outputs": [
    {
     "data": {
      "text/html": [
       "<div>\n",
       "<style scoped>\n",
       "    .dataframe tbody tr th:only-of-type {\n",
       "        vertical-align: middle;\n",
       "    }\n",
       "\n",
       "    .dataframe tbody tr th {\n",
       "        vertical-align: top;\n",
       "    }\n",
       "\n",
       "    .dataframe thead th {\n",
       "        text-align: right;\n",
       "    }\n",
       "</style>\n",
       "<table border=\"1\" class=\"dataframe\">\n",
       "  <thead>\n",
       "    <tr style=\"text-align: right;\">\n",
       "      <th></th>\n",
       "      <th>High</th>\n",
       "      <th>Low</th>\n",
       "      <th>Open</th>\n",
       "      <th>Close</th>\n",
       "      <th>Volume</th>\n",
       "      <th>Adj Close</th>\n",
       "      <th>new_date</th>\n",
       "      <th>new_date2</th>\n",
       "      <th>new_date3</th>\n",
       "    </tr>\n",
       "    <tr>\n",
       "      <th>Date</th>\n",
       "      <th></th>\n",
       "      <th></th>\n",
       "      <th></th>\n",
       "      <th></th>\n",
       "      <th></th>\n",
       "      <th></th>\n",
       "      <th></th>\n",
       "      <th></th>\n",
       "      <th></th>\n",
       "    </tr>\n",
       "  </thead>\n",
       "  <tbody>\n",
       "    <tr>\n",
       "      <td>2007-06-27</td>\n",
       "      <td>24.389999</td>\n",
       "      <td>19.700001</td>\n",
       "      <td>22.000000</td>\n",
       "      <td>23.469999</td>\n",
       "      <td>0</td>\n",
       "      <td>23.469999</td>\n",
       "      <td>2007-06-30</td>\n",
       "      <td>2007-05-31</td>\n",
       "      <td>2007-06-01</td>\n",
       "    </tr>\n",
       "    <tr>\n",
       "      <td>2007-06-28</td>\n",
       "      <td>26.270000</td>\n",
       "      <td>22.500000</td>\n",
       "      <td>23.889999</td>\n",
       "      <td>25.590000</td>\n",
       "      <td>804300</td>\n",
       "      <td>25.590000</td>\n",
       "      <td>2007-06-30</td>\n",
       "      <td>2007-05-31</td>\n",
       "      <td>2007-06-01</td>\n",
       "    </tr>\n",
       "    <tr>\n",
       "      <td>2007-06-29</td>\n",
       "      <td>26.200001</td>\n",
       "      <td>22.260000</td>\n",
       "      <td>26.200001</td>\n",
       "      <td>23.150000</td>\n",
       "      <td>604000</td>\n",
       "      <td>23.150000</td>\n",
       "      <td>2007-06-30</td>\n",
       "      <td>2007-05-31</td>\n",
       "      <td>2007-06-01</td>\n",
       "    </tr>\n",
       "    <tr>\n",
       "      <td>2007-07-02</td>\n",
       "      <td>23.490000</td>\n",
       "      <td>22.000000</td>\n",
       "      <td>23.490000</td>\n",
       "      <td>22.410000</td>\n",
       "      <td>324100</td>\n",
       "      <td>22.410000</td>\n",
       "      <td>2007-07-31</td>\n",
       "      <td>2007-06-30</td>\n",
       "      <td>2007-07-01</td>\n",
       "    </tr>\n",
       "    <tr>\n",
       "      <td>2007-07-03</td>\n",
       "      <td>22.770000</td>\n",
       "      <td>22.000000</td>\n",
       "      <td>22.770000</td>\n",
       "      <td>22.389999</td>\n",
       "      <td>86300</td>\n",
       "      <td>22.389999</td>\n",
       "      <td>2007-07-31</td>\n",
       "      <td>2007-06-30</td>\n",
       "      <td>2007-07-01</td>\n",
       "    </tr>\n",
       "    <tr>\n",
       "      <td>...</td>\n",
       "      <td>...</td>\n",
       "      <td>...</td>\n",
       "      <td>...</td>\n",
       "      <td>...</td>\n",
       "      <td>...</td>\n",
       "      <td>...</td>\n",
       "      <td>...</td>\n",
       "      <td>...</td>\n",
       "      <td>...</td>\n",
       "    </tr>\n",
       "    <tr>\n",
       "      <td>2020-01-03</td>\n",
       "      <td>5.000000</td>\n",
       "      <td>4.760000</td>\n",
       "      <td>4.760000</td>\n",
       "      <td>4.900000</td>\n",
       "      <td>383700</td>\n",
       "      <td>4.900000</td>\n",
       "      <td>2020-01-31</td>\n",
       "      <td>2019-12-31</td>\n",
       "      <td>2020-01-01</td>\n",
       "    </tr>\n",
       "    <tr>\n",
       "      <td>2020-01-06</td>\n",
       "      <td>5.000000</td>\n",
       "      <td>4.790000</td>\n",
       "      <td>4.900000</td>\n",
       "      <td>4.950000</td>\n",
       "      <td>466600</td>\n",
       "      <td>4.950000</td>\n",
       "      <td>2020-01-31</td>\n",
       "      <td>2019-12-31</td>\n",
       "      <td>2020-01-01</td>\n",
       "    </tr>\n",
       "    <tr>\n",
       "      <td>2020-01-07</td>\n",
       "      <td>5.060000</td>\n",
       "      <td>4.900000</td>\n",
       "      <td>4.950000</td>\n",
       "      <td>4.970000</td>\n",
       "      <td>320200</td>\n",
       "      <td>4.970000</td>\n",
       "      <td>2020-01-31</td>\n",
       "      <td>2019-12-31</td>\n",
       "      <td>2020-01-01</td>\n",
       "    </tr>\n",
       "    <tr>\n",
       "      <td>2020-01-08</td>\n",
       "      <td>5.220000</td>\n",
       "      <td>4.910000</td>\n",
       "      <td>4.960000</td>\n",
       "      <td>5.130000</td>\n",
       "      <td>486200</td>\n",
       "      <td>5.130000</td>\n",
       "      <td>2020-01-31</td>\n",
       "      <td>2019-12-31</td>\n",
       "      <td>2020-01-01</td>\n",
       "    </tr>\n",
       "    <tr>\n",
       "      <td>2020-01-09</td>\n",
       "      <td>5.310000</td>\n",
       "      <td>5.060000</td>\n",
       "      <td>5.150000</td>\n",
       "      <td>5.200000</td>\n",
       "      <td>310707</td>\n",
       "      <td>5.200000</td>\n",
       "      <td>2020-01-31</td>\n",
       "      <td>2019-12-31</td>\n",
       "      <td>2020-01-01</td>\n",
       "    </tr>\n",
       "  </tbody>\n",
       "</table>\n",
       "<p>3157 rows × 9 columns</p>\n",
       "</div>"
      ],
      "text/plain": [
       "                 High        Low       Open      Close  Volume  Adj Close  \\\n",
       "Date                                                                        \n",
       "2007-06-27  24.389999  19.700001  22.000000  23.469999       0  23.469999   \n",
       "2007-06-28  26.270000  22.500000  23.889999  25.590000  804300  25.590000   \n",
       "2007-06-29  26.200001  22.260000  26.200001  23.150000  604000  23.150000   \n",
       "2007-07-02  23.490000  22.000000  23.490000  22.410000  324100  22.410000   \n",
       "2007-07-03  22.770000  22.000000  22.770000  22.389999   86300  22.389999   \n",
       "...               ...        ...        ...        ...     ...        ...   \n",
       "2020-01-03   5.000000   4.760000   4.760000   4.900000  383700   4.900000   \n",
       "2020-01-06   5.000000   4.790000   4.900000   4.950000  466600   4.950000   \n",
       "2020-01-07   5.060000   4.900000   4.950000   4.970000  320200   4.970000   \n",
       "2020-01-08   5.220000   4.910000   4.960000   5.130000  486200   5.130000   \n",
       "2020-01-09   5.310000   5.060000   5.150000   5.200000  310707   5.200000   \n",
       "\n",
       "             new_date  new_date2  new_date3  \n",
       "Date                                         \n",
       "2007-06-27 2007-06-30 2007-05-31 2007-06-01  \n",
       "2007-06-28 2007-06-30 2007-05-31 2007-06-01  \n",
       "2007-06-29 2007-06-30 2007-05-31 2007-06-01  \n",
       "2007-07-02 2007-07-31 2007-06-30 2007-07-01  \n",
       "2007-07-03 2007-07-31 2007-06-30 2007-07-01  \n",
       "...               ...        ...        ...  \n",
       "2020-01-03 2020-01-31 2019-12-31 2020-01-01  \n",
       "2020-01-06 2020-01-31 2019-12-31 2020-01-01  \n",
       "2020-01-07 2020-01-31 2019-12-31 2020-01-01  \n",
       "2020-01-08 2020-01-31 2019-12-31 2020-01-01  \n",
       "2020-01-09 2020-01-31 2019-12-31 2020-01-01  \n",
       "\n",
       "[3157 rows x 9 columns]"
      ]
     },
     "execution_count": 71,
     "metadata": {},
     "output_type": "execute_result"
    }
   ],
   "source": [
    "stocks[\"new_date3\"] = stocks.index - pd.tseries.offsets.MonthBegin(n=1)\n",
    "stocks"
   ]
  },
  {
   "cell_type": "code",
   "execution_count": 72,
   "metadata": {},
   "outputs": [
    {
     "data": {
      "text/html": [
       "<div>\n",
       "<style scoped>\n",
       "    .dataframe tbody tr th:only-of-type {\n",
       "        vertical-align: middle;\n",
       "    }\n",
       "\n",
       "    .dataframe tbody tr th {\n",
       "        vertical-align: top;\n",
       "    }\n",
       "\n",
       "    .dataframe thead th {\n",
       "        text-align: right;\n",
       "    }\n",
       "</style>\n",
       "<table border=\"1\" class=\"dataframe\">\n",
       "  <thead>\n",
       "    <tr style=\"text-align: right;\">\n",
       "      <th></th>\n",
       "      <th>High</th>\n",
       "      <th>Low</th>\n",
       "      <th>Open</th>\n",
       "      <th>Close</th>\n",
       "      <th>Volume</th>\n",
       "      <th>Adj Close</th>\n",
       "      <th>new_date</th>\n",
       "      <th>new_date2</th>\n",
       "      <th>new_date3</th>\n",
       "      <th>new_date4</th>\n",
       "    </tr>\n",
       "    <tr>\n",
       "      <th>Date</th>\n",
       "      <th></th>\n",
       "      <th></th>\n",
       "      <th></th>\n",
       "      <th></th>\n",
       "      <th></th>\n",
       "      <th></th>\n",
       "      <th></th>\n",
       "      <th></th>\n",
       "      <th></th>\n",
       "      <th></th>\n",
       "    </tr>\n",
       "  </thead>\n",
       "  <tbody>\n",
       "    <tr>\n",
       "      <td>2007-06-27</td>\n",
       "      <td>24.389999</td>\n",
       "      <td>19.700001</td>\n",
       "      <td>22.000000</td>\n",
       "      <td>23.469999</td>\n",
       "      <td>0</td>\n",
       "      <td>23.469999</td>\n",
       "      <td>2007-06-30</td>\n",
       "      <td>2007-05-31</td>\n",
       "      <td>2007-06-01</td>\n",
       "      <td>2007-05-31</td>\n",
       "    </tr>\n",
       "    <tr>\n",
       "      <td>2007-06-28</td>\n",
       "      <td>26.270000</td>\n",
       "      <td>22.500000</td>\n",
       "      <td>23.889999</td>\n",
       "      <td>25.590000</td>\n",
       "      <td>804300</td>\n",
       "      <td>25.590000</td>\n",
       "      <td>2007-06-30</td>\n",
       "      <td>2007-05-31</td>\n",
       "      <td>2007-06-01</td>\n",
       "      <td>2007-05-31</td>\n",
       "    </tr>\n",
       "    <tr>\n",
       "      <td>2007-06-29</td>\n",
       "      <td>26.200001</td>\n",
       "      <td>22.260000</td>\n",
       "      <td>26.200001</td>\n",
       "      <td>23.150000</td>\n",
       "      <td>604000</td>\n",
       "      <td>23.150000</td>\n",
       "      <td>2007-06-30</td>\n",
       "      <td>2007-05-31</td>\n",
       "      <td>2007-06-01</td>\n",
       "      <td>2007-05-31</td>\n",
       "    </tr>\n",
       "    <tr>\n",
       "      <td>2007-07-02</td>\n",
       "      <td>23.490000</td>\n",
       "      <td>22.000000</td>\n",
       "      <td>23.490000</td>\n",
       "      <td>22.410000</td>\n",
       "      <td>324100</td>\n",
       "      <td>22.410000</td>\n",
       "      <td>2007-07-31</td>\n",
       "      <td>2007-06-30</td>\n",
       "      <td>2007-07-01</td>\n",
       "      <td>2007-06-29</td>\n",
       "    </tr>\n",
       "    <tr>\n",
       "      <td>2007-07-03</td>\n",
       "      <td>22.770000</td>\n",
       "      <td>22.000000</td>\n",
       "      <td>22.770000</td>\n",
       "      <td>22.389999</td>\n",
       "      <td>86300</td>\n",
       "      <td>22.389999</td>\n",
       "      <td>2007-07-31</td>\n",
       "      <td>2007-06-30</td>\n",
       "      <td>2007-07-01</td>\n",
       "      <td>2007-06-29</td>\n",
       "    </tr>\n",
       "    <tr>\n",
       "      <td>...</td>\n",
       "      <td>...</td>\n",
       "      <td>...</td>\n",
       "      <td>...</td>\n",
       "      <td>...</td>\n",
       "      <td>...</td>\n",
       "      <td>...</td>\n",
       "      <td>...</td>\n",
       "      <td>...</td>\n",
       "      <td>...</td>\n",
       "      <td>...</td>\n",
       "    </tr>\n",
       "    <tr>\n",
       "      <td>2020-01-03</td>\n",
       "      <td>5.000000</td>\n",
       "      <td>4.760000</td>\n",
       "      <td>4.760000</td>\n",
       "      <td>4.900000</td>\n",
       "      <td>383700</td>\n",
       "      <td>4.900000</td>\n",
       "      <td>2020-01-31</td>\n",
       "      <td>2019-12-31</td>\n",
       "      <td>2020-01-01</td>\n",
       "      <td>2019-12-31</td>\n",
       "    </tr>\n",
       "    <tr>\n",
       "      <td>2020-01-06</td>\n",
       "      <td>5.000000</td>\n",
       "      <td>4.790000</td>\n",
       "      <td>4.900000</td>\n",
       "      <td>4.950000</td>\n",
       "      <td>466600</td>\n",
       "      <td>4.950000</td>\n",
       "      <td>2020-01-31</td>\n",
       "      <td>2019-12-31</td>\n",
       "      <td>2020-01-01</td>\n",
       "      <td>2019-12-31</td>\n",
       "    </tr>\n",
       "    <tr>\n",
       "      <td>2020-01-07</td>\n",
       "      <td>5.060000</td>\n",
       "      <td>4.900000</td>\n",
       "      <td>4.950000</td>\n",
       "      <td>4.970000</td>\n",
       "      <td>320200</td>\n",
       "      <td>4.970000</td>\n",
       "      <td>2020-01-31</td>\n",
       "      <td>2019-12-31</td>\n",
       "      <td>2020-01-01</td>\n",
       "      <td>2019-12-31</td>\n",
       "    </tr>\n",
       "    <tr>\n",
       "      <td>2020-01-08</td>\n",
       "      <td>5.220000</td>\n",
       "      <td>4.910000</td>\n",
       "      <td>4.960000</td>\n",
       "      <td>5.130000</td>\n",
       "      <td>486200</td>\n",
       "      <td>5.130000</td>\n",
       "      <td>2020-01-31</td>\n",
       "      <td>2019-12-31</td>\n",
       "      <td>2020-01-01</td>\n",
       "      <td>2019-12-31</td>\n",
       "    </tr>\n",
       "    <tr>\n",
       "      <td>2020-01-09</td>\n",
       "      <td>5.310000</td>\n",
       "      <td>5.060000</td>\n",
       "      <td>5.150000</td>\n",
       "      <td>5.200000</td>\n",
       "      <td>310707</td>\n",
       "      <td>5.200000</td>\n",
       "      <td>2020-01-31</td>\n",
       "      <td>2019-12-31</td>\n",
       "      <td>2020-01-01</td>\n",
       "      <td>2019-12-31</td>\n",
       "    </tr>\n",
       "  </tbody>\n",
       "</table>\n",
       "<p>3157 rows × 10 columns</p>\n",
       "</div>"
      ],
      "text/plain": [
       "                 High        Low       Open      Close  Volume  Adj Close  \\\n",
       "Date                                                                        \n",
       "2007-06-27  24.389999  19.700001  22.000000  23.469999       0  23.469999   \n",
       "2007-06-28  26.270000  22.500000  23.889999  25.590000  804300  25.590000   \n",
       "2007-06-29  26.200001  22.260000  26.200001  23.150000  604000  23.150000   \n",
       "2007-07-02  23.490000  22.000000  23.490000  22.410000  324100  22.410000   \n",
       "2007-07-03  22.770000  22.000000  22.770000  22.389999   86300  22.389999   \n",
       "...               ...        ...        ...        ...     ...        ...   \n",
       "2020-01-03   5.000000   4.760000   4.760000   4.900000  383700   4.900000   \n",
       "2020-01-06   5.000000   4.790000   4.900000   4.950000  466600   4.950000   \n",
       "2020-01-07   5.060000   4.900000   4.950000   4.970000  320200   4.970000   \n",
       "2020-01-08   5.220000   4.910000   4.960000   5.130000  486200   5.130000   \n",
       "2020-01-09   5.310000   5.060000   5.150000   5.200000  310707   5.200000   \n",
       "\n",
       "             new_date  new_date2  new_date3  new_date4  \n",
       "Date                                                    \n",
       "2007-06-27 2007-06-30 2007-05-31 2007-06-01 2007-05-31  \n",
       "2007-06-28 2007-06-30 2007-05-31 2007-06-01 2007-05-31  \n",
       "2007-06-29 2007-06-30 2007-05-31 2007-06-01 2007-05-31  \n",
       "2007-07-02 2007-07-31 2007-06-30 2007-07-01 2007-06-29  \n",
       "2007-07-03 2007-07-31 2007-06-30 2007-07-01 2007-06-29  \n",
       "...               ...        ...        ...        ...  \n",
       "2020-01-03 2020-01-31 2019-12-31 2020-01-01 2019-12-31  \n",
       "2020-01-06 2020-01-31 2019-12-31 2020-01-01 2019-12-31  \n",
       "2020-01-07 2020-01-31 2019-12-31 2020-01-01 2019-12-31  \n",
       "2020-01-08 2020-01-31 2019-12-31 2020-01-01 2019-12-31  \n",
       "2020-01-09 2020-01-31 2019-12-31 2020-01-01 2019-12-31  \n",
       "\n",
       "[3157 rows x 10 columns]"
      ]
     },
     "execution_count": 72,
     "metadata": {},
     "output_type": "execute_result"
    }
   ],
   "source": [
    "stocks[\"new_date4\"] = stocks.index - pd.tseries.offsets.BMonthEnd()\n",
    "stocks"
   ]
  },
  {
   "cell_type": "code",
   "execution_count": 73,
   "metadata": {},
   "outputs": [
    {
     "data": {
      "text/html": [
       "<div>\n",
       "<style scoped>\n",
       "    .dataframe tbody tr th:only-of-type {\n",
       "        vertical-align: middle;\n",
       "    }\n",
       "\n",
       "    .dataframe tbody tr th {\n",
       "        vertical-align: top;\n",
       "    }\n",
       "\n",
       "    .dataframe thead th {\n",
       "        text-align: right;\n",
       "    }\n",
       "</style>\n",
       "<table border=\"1\" class=\"dataframe\">\n",
       "  <thead>\n",
       "    <tr style=\"text-align: right;\">\n",
       "      <th></th>\n",
       "      <th>High</th>\n",
       "      <th>Low</th>\n",
       "      <th>Open</th>\n",
       "      <th>Close</th>\n",
       "      <th>Volume</th>\n",
       "      <th>Adj Close</th>\n",
       "      <th>new_date</th>\n",
       "      <th>new_date2</th>\n",
       "      <th>new_date3</th>\n",
       "      <th>new_date4</th>\n",
       "      <th>new_date5</th>\n",
       "    </tr>\n",
       "    <tr>\n",
       "      <th>Date</th>\n",
       "      <th></th>\n",
       "      <th></th>\n",
       "      <th></th>\n",
       "      <th></th>\n",
       "      <th></th>\n",
       "      <th></th>\n",
       "      <th></th>\n",
       "      <th></th>\n",
       "      <th></th>\n",
       "      <th></th>\n",
       "      <th></th>\n",
       "    </tr>\n",
       "  </thead>\n",
       "  <tbody>\n",
       "    <tr>\n",
       "      <td>2007-06-27</td>\n",
       "      <td>24.389999</td>\n",
       "      <td>19.700001</td>\n",
       "      <td>22.000000</td>\n",
       "      <td>23.469999</td>\n",
       "      <td>0</td>\n",
       "      <td>23.469999</td>\n",
       "      <td>2007-06-30</td>\n",
       "      <td>2007-05-31</td>\n",
       "      <td>2007-06-01</td>\n",
       "      <td>2007-05-31</td>\n",
       "      <td>2007-03-31</td>\n",
       "    </tr>\n",
       "    <tr>\n",
       "      <td>2007-06-28</td>\n",
       "      <td>26.270000</td>\n",
       "      <td>22.500000</td>\n",
       "      <td>23.889999</td>\n",
       "      <td>25.590000</td>\n",
       "      <td>804300</td>\n",
       "      <td>25.590000</td>\n",
       "      <td>2007-06-30</td>\n",
       "      <td>2007-05-31</td>\n",
       "      <td>2007-06-01</td>\n",
       "      <td>2007-05-31</td>\n",
       "      <td>2007-03-31</td>\n",
       "    </tr>\n",
       "    <tr>\n",
       "      <td>2007-06-29</td>\n",
       "      <td>26.200001</td>\n",
       "      <td>22.260000</td>\n",
       "      <td>26.200001</td>\n",
       "      <td>23.150000</td>\n",
       "      <td>604000</td>\n",
       "      <td>23.150000</td>\n",
       "      <td>2007-06-30</td>\n",
       "      <td>2007-05-31</td>\n",
       "      <td>2007-06-01</td>\n",
       "      <td>2007-05-31</td>\n",
       "      <td>2007-03-31</td>\n",
       "    </tr>\n",
       "    <tr>\n",
       "      <td>2007-07-02</td>\n",
       "      <td>23.490000</td>\n",
       "      <td>22.000000</td>\n",
       "      <td>23.490000</td>\n",
       "      <td>22.410000</td>\n",
       "      <td>324100</td>\n",
       "      <td>22.410000</td>\n",
       "      <td>2007-07-31</td>\n",
       "      <td>2007-06-30</td>\n",
       "      <td>2007-07-01</td>\n",
       "      <td>2007-06-29</td>\n",
       "      <td>2007-06-30</td>\n",
       "    </tr>\n",
       "    <tr>\n",
       "      <td>2007-07-03</td>\n",
       "      <td>22.770000</td>\n",
       "      <td>22.000000</td>\n",
       "      <td>22.770000</td>\n",
       "      <td>22.389999</td>\n",
       "      <td>86300</td>\n",
       "      <td>22.389999</td>\n",
       "      <td>2007-07-31</td>\n",
       "      <td>2007-06-30</td>\n",
       "      <td>2007-07-01</td>\n",
       "      <td>2007-06-29</td>\n",
       "      <td>2007-06-30</td>\n",
       "    </tr>\n",
       "    <tr>\n",
       "      <td>...</td>\n",
       "      <td>...</td>\n",
       "      <td>...</td>\n",
       "      <td>...</td>\n",
       "      <td>...</td>\n",
       "      <td>...</td>\n",
       "      <td>...</td>\n",
       "      <td>...</td>\n",
       "      <td>...</td>\n",
       "      <td>...</td>\n",
       "      <td>...</td>\n",
       "      <td>...</td>\n",
       "    </tr>\n",
       "    <tr>\n",
       "      <td>2020-01-03</td>\n",
       "      <td>5.000000</td>\n",
       "      <td>4.760000</td>\n",
       "      <td>4.760000</td>\n",
       "      <td>4.900000</td>\n",
       "      <td>383700</td>\n",
       "      <td>4.900000</td>\n",
       "      <td>2020-01-31</td>\n",
       "      <td>2019-12-31</td>\n",
       "      <td>2020-01-01</td>\n",
       "      <td>2019-12-31</td>\n",
       "      <td>2019-12-31</td>\n",
       "    </tr>\n",
       "    <tr>\n",
       "      <td>2020-01-06</td>\n",
       "      <td>5.000000</td>\n",
       "      <td>4.790000</td>\n",
       "      <td>4.900000</td>\n",
       "      <td>4.950000</td>\n",
       "      <td>466600</td>\n",
       "      <td>4.950000</td>\n",
       "      <td>2020-01-31</td>\n",
       "      <td>2019-12-31</td>\n",
       "      <td>2020-01-01</td>\n",
       "      <td>2019-12-31</td>\n",
       "      <td>2019-12-31</td>\n",
       "    </tr>\n",
       "    <tr>\n",
       "      <td>2020-01-07</td>\n",
       "      <td>5.060000</td>\n",
       "      <td>4.900000</td>\n",
       "      <td>4.950000</td>\n",
       "      <td>4.970000</td>\n",
       "      <td>320200</td>\n",
       "      <td>4.970000</td>\n",
       "      <td>2020-01-31</td>\n",
       "      <td>2019-12-31</td>\n",
       "      <td>2020-01-01</td>\n",
       "      <td>2019-12-31</td>\n",
       "      <td>2019-12-31</td>\n",
       "    </tr>\n",
       "    <tr>\n",
       "      <td>2020-01-08</td>\n",
       "      <td>5.220000</td>\n",
       "      <td>4.910000</td>\n",
       "      <td>4.960000</td>\n",
       "      <td>5.130000</td>\n",
       "      <td>486200</td>\n",
       "      <td>5.130000</td>\n",
       "      <td>2020-01-31</td>\n",
       "      <td>2019-12-31</td>\n",
       "      <td>2020-01-01</td>\n",
       "      <td>2019-12-31</td>\n",
       "      <td>2019-12-31</td>\n",
       "    </tr>\n",
       "    <tr>\n",
       "      <td>2020-01-09</td>\n",
       "      <td>5.310000</td>\n",
       "      <td>5.060000</td>\n",
       "      <td>5.150000</td>\n",
       "      <td>5.200000</td>\n",
       "      <td>310707</td>\n",
       "      <td>5.200000</td>\n",
       "      <td>2020-01-31</td>\n",
       "      <td>2019-12-31</td>\n",
       "      <td>2020-01-01</td>\n",
       "      <td>2019-12-31</td>\n",
       "      <td>2019-12-31</td>\n",
       "    </tr>\n",
       "  </tbody>\n",
       "</table>\n",
       "<p>3157 rows × 11 columns</p>\n",
       "</div>"
      ],
      "text/plain": [
       "                 High        Low       Open      Close  Volume  Adj Close  \\\n",
       "Date                                                                        \n",
       "2007-06-27  24.389999  19.700001  22.000000  23.469999       0  23.469999   \n",
       "2007-06-28  26.270000  22.500000  23.889999  25.590000  804300  25.590000   \n",
       "2007-06-29  26.200001  22.260000  26.200001  23.150000  604000  23.150000   \n",
       "2007-07-02  23.490000  22.000000  23.490000  22.410000  324100  22.410000   \n",
       "2007-07-03  22.770000  22.000000  22.770000  22.389999   86300  22.389999   \n",
       "...               ...        ...        ...        ...     ...        ...   \n",
       "2020-01-03   5.000000   4.760000   4.760000   4.900000  383700   4.900000   \n",
       "2020-01-06   5.000000   4.790000   4.900000   4.950000  466600   4.950000   \n",
       "2020-01-07   5.060000   4.900000   4.950000   4.970000  320200   4.970000   \n",
       "2020-01-08   5.220000   4.910000   4.960000   5.130000  486200   5.130000   \n",
       "2020-01-09   5.310000   5.060000   5.150000   5.200000  310707   5.200000   \n",
       "\n",
       "             new_date  new_date2  new_date3  new_date4  new_date5  \n",
       "Date                                                               \n",
       "2007-06-27 2007-06-30 2007-05-31 2007-06-01 2007-05-31 2007-03-31  \n",
       "2007-06-28 2007-06-30 2007-05-31 2007-06-01 2007-05-31 2007-03-31  \n",
       "2007-06-29 2007-06-30 2007-05-31 2007-06-01 2007-05-31 2007-03-31  \n",
       "2007-07-02 2007-07-31 2007-06-30 2007-07-01 2007-06-29 2007-06-30  \n",
       "2007-07-03 2007-07-31 2007-06-30 2007-07-01 2007-06-29 2007-06-30  \n",
       "...               ...        ...        ...        ...        ...  \n",
       "2020-01-03 2020-01-31 2019-12-31 2020-01-01 2019-12-31 2019-12-31  \n",
       "2020-01-06 2020-01-31 2019-12-31 2020-01-01 2019-12-31 2019-12-31  \n",
       "2020-01-07 2020-01-31 2019-12-31 2020-01-01 2019-12-31 2019-12-31  \n",
       "2020-01-08 2020-01-31 2019-12-31 2020-01-01 2019-12-31 2019-12-31  \n",
       "2020-01-09 2020-01-31 2019-12-31 2020-01-01 2019-12-31 2019-12-31  \n",
       "\n",
       "[3157 rows x 11 columns]"
      ]
     },
     "execution_count": 73,
     "metadata": {},
     "output_type": "execute_result"
    }
   ],
   "source": [
    "stocks[\"new_date5\"] = stocks.index - pd.tseries.offsets.QuarterEnd()\n",
    "stocks"
   ]
  },
  {
   "cell_type": "code",
   "execution_count": 74,
   "metadata": {
    "scrolled": false
   },
   "outputs": [
    {
     "data": {
      "text/html": [
       "<div>\n",
       "<style scoped>\n",
       "    .dataframe tbody tr th:only-of-type {\n",
       "        vertical-align: middle;\n",
       "    }\n",
       "\n",
       "    .dataframe tbody tr th {\n",
       "        vertical-align: top;\n",
       "    }\n",
       "\n",
       "    .dataframe thead th {\n",
       "        text-align: right;\n",
       "    }\n",
       "</style>\n",
       "<table border=\"1\" class=\"dataframe\">\n",
       "  <thead>\n",
       "    <tr style=\"text-align: right;\">\n",
       "      <th></th>\n",
       "      <th>High</th>\n",
       "      <th>Low</th>\n",
       "      <th>Open</th>\n",
       "      <th>Close</th>\n",
       "      <th>Volume</th>\n",
       "      <th>Adj Close</th>\n",
       "      <th>new_date</th>\n",
       "      <th>new_date2</th>\n",
       "      <th>new_date3</th>\n",
       "      <th>new_date4</th>\n",
       "      <th>new_date5</th>\n",
       "      <th>new_date6</th>\n",
       "    </tr>\n",
       "    <tr>\n",
       "      <th>Date</th>\n",
       "      <th></th>\n",
       "      <th></th>\n",
       "      <th></th>\n",
       "      <th></th>\n",
       "      <th></th>\n",
       "      <th></th>\n",
       "      <th></th>\n",
       "      <th></th>\n",
       "      <th></th>\n",
       "      <th></th>\n",
       "      <th></th>\n",
       "      <th></th>\n",
       "    </tr>\n",
       "  </thead>\n",
       "  <tbody>\n",
       "    <tr>\n",
       "      <td>2007-06-27</td>\n",
       "      <td>24.389999</td>\n",
       "      <td>19.700001</td>\n",
       "      <td>22.000000</td>\n",
       "      <td>23.469999</td>\n",
       "      <td>0</td>\n",
       "      <td>23.469999</td>\n",
       "      <td>2007-06-30</td>\n",
       "      <td>2007-05-31</td>\n",
       "      <td>2007-06-01</td>\n",
       "      <td>2007-05-31</td>\n",
       "      <td>2007-03-31</td>\n",
       "      <td>2006-12-31</td>\n",
       "    </tr>\n",
       "    <tr>\n",
       "      <td>2007-06-28</td>\n",
       "      <td>26.270000</td>\n",
       "      <td>22.500000</td>\n",
       "      <td>23.889999</td>\n",
       "      <td>25.590000</td>\n",
       "      <td>804300</td>\n",
       "      <td>25.590000</td>\n",
       "      <td>2007-06-30</td>\n",
       "      <td>2007-05-31</td>\n",
       "      <td>2007-06-01</td>\n",
       "      <td>2007-05-31</td>\n",
       "      <td>2007-03-31</td>\n",
       "      <td>2006-12-31</td>\n",
       "    </tr>\n",
       "    <tr>\n",
       "      <td>2007-06-29</td>\n",
       "      <td>26.200001</td>\n",
       "      <td>22.260000</td>\n",
       "      <td>26.200001</td>\n",
       "      <td>23.150000</td>\n",
       "      <td>604000</td>\n",
       "      <td>23.150000</td>\n",
       "      <td>2007-06-30</td>\n",
       "      <td>2007-05-31</td>\n",
       "      <td>2007-06-01</td>\n",
       "      <td>2007-05-31</td>\n",
       "      <td>2007-03-31</td>\n",
       "      <td>2006-12-31</td>\n",
       "    </tr>\n",
       "    <tr>\n",
       "      <td>2007-07-02</td>\n",
       "      <td>23.490000</td>\n",
       "      <td>22.000000</td>\n",
       "      <td>23.490000</td>\n",
       "      <td>22.410000</td>\n",
       "      <td>324100</td>\n",
       "      <td>22.410000</td>\n",
       "      <td>2007-07-31</td>\n",
       "      <td>2007-06-30</td>\n",
       "      <td>2007-07-01</td>\n",
       "      <td>2007-06-29</td>\n",
       "      <td>2007-06-30</td>\n",
       "      <td>2006-12-31</td>\n",
       "    </tr>\n",
       "    <tr>\n",
       "      <td>2007-07-03</td>\n",
       "      <td>22.770000</td>\n",
       "      <td>22.000000</td>\n",
       "      <td>22.770000</td>\n",
       "      <td>22.389999</td>\n",
       "      <td>86300</td>\n",
       "      <td>22.389999</td>\n",
       "      <td>2007-07-31</td>\n",
       "      <td>2007-06-30</td>\n",
       "      <td>2007-07-01</td>\n",
       "      <td>2007-06-29</td>\n",
       "      <td>2007-06-30</td>\n",
       "      <td>2006-12-31</td>\n",
       "    </tr>\n",
       "    <tr>\n",
       "      <td>...</td>\n",
       "      <td>...</td>\n",
       "      <td>...</td>\n",
       "      <td>...</td>\n",
       "      <td>...</td>\n",
       "      <td>...</td>\n",
       "      <td>...</td>\n",
       "      <td>...</td>\n",
       "      <td>...</td>\n",
       "      <td>...</td>\n",
       "      <td>...</td>\n",
       "      <td>...</td>\n",
       "      <td>...</td>\n",
       "    </tr>\n",
       "    <tr>\n",
       "      <td>2020-01-03</td>\n",
       "      <td>5.000000</td>\n",
       "      <td>4.760000</td>\n",
       "      <td>4.760000</td>\n",
       "      <td>4.900000</td>\n",
       "      <td>383700</td>\n",
       "      <td>4.900000</td>\n",
       "      <td>2020-01-31</td>\n",
       "      <td>2019-12-31</td>\n",
       "      <td>2020-01-01</td>\n",
       "      <td>2019-12-31</td>\n",
       "      <td>2019-12-31</td>\n",
       "      <td>2019-12-31</td>\n",
       "    </tr>\n",
       "    <tr>\n",
       "      <td>2020-01-06</td>\n",
       "      <td>5.000000</td>\n",
       "      <td>4.790000</td>\n",
       "      <td>4.900000</td>\n",
       "      <td>4.950000</td>\n",
       "      <td>466600</td>\n",
       "      <td>4.950000</td>\n",
       "      <td>2020-01-31</td>\n",
       "      <td>2019-12-31</td>\n",
       "      <td>2020-01-01</td>\n",
       "      <td>2019-12-31</td>\n",
       "      <td>2019-12-31</td>\n",
       "      <td>2019-12-31</td>\n",
       "    </tr>\n",
       "    <tr>\n",
       "      <td>2020-01-07</td>\n",
       "      <td>5.060000</td>\n",
       "      <td>4.900000</td>\n",
       "      <td>4.950000</td>\n",
       "      <td>4.970000</td>\n",
       "      <td>320200</td>\n",
       "      <td>4.970000</td>\n",
       "      <td>2020-01-31</td>\n",
       "      <td>2019-12-31</td>\n",
       "      <td>2020-01-01</td>\n",
       "      <td>2019-12-31</td>\n",
       "      <td>2019-12-31</td>\n",
       "      <td>2019-12-31</td>\n",
       "    </tr>\n",
       "    <tr>\n",
       "      <td>2020-01-08</td>\n",
       "      <td>5.220000</td>\n",
       "      <td>4.910000</td>\n",
       "      <td>4.960000</td>\n",
       "      <td>5.130000</td>\n",
       "      <td>486200</td>\n",
       "      <td>5.130000</td>\n",
       "      <td>2020-01-31</td>\n",
       "      <td>2019-12-31</td>\n",
       "      <td>2020-01-01</td>\n",
       "      <td>2019-12-31</td>\n",
       "      <td>2019-12-31</td>\n",
       "      <td>2019-12-31</td>\n",
       "    </tr>\n",
       "    <tr>\n",
       "      <td>2020-01-09</td>\n",
       "      <td>5.310000</td>\n",
       "      <td>5.060000</td>\n",
       "      <td>5.150000</td>\n",
       "      <td>5.200000</td>\n",
       "      <td>310707</td>\n",
       "      <td>5.200000</td>\n",
       "      <td>2020-01-31</td>\n",
       "      <td>2019-12-31</td>\n",
       "      <td>2020-01-01</td>\n",
       "      <td>2019-12-31</td>\n",
       "      <td>2019-12-31</td>\n",
       "      <td>2019-12-31</td>\n",
       "    </tr>\n",
       "  </tbody>\n",
       "</table>\n",
       "<p>3157 rows × 12 columns</p>\n",
       "</div>"
      ],
      "text/plain": [
       "                 High        Low       Open      Close  Volume  Adj Close  \\\n",
       "Date                                                                        \n",
       "2007-06-27  24.389999  19.700001  22.000000  23.469999       0  23.469999   \n",
       "2007-06-28  26.270000  22.500000  23.889999  25.590000  804300  25.590000   \n",
       "2007-06-29  26.200001  22.260000  26.200001  23.150000  604000  23.150000   \n",
       "2007-07-02  23.490000  22.000000  23.490000  22.410000  324100  22.410000   \n",
       "2007-07-03  22.770000  22.000000  22.770000  22.389999   86300  22.389999   \n",
       "...               ...        ...        ...        ...     ...        ...   \n",
       "2020-01-03   5.000000   4.760000   4.760000   4.900000  383700   4.900000   \n",
       "2020-01-06   5.000000   4.790000   4.900000   4.950000  466600   4.950000   \n",
       "2020-01-07   5.060000   4.900000   4.950000   4.970000  320200   4.970000   \n",
       "2020-01-08   5.220000   4.910000   4.960000   5.130000  486200   5.130000   \n",
       "2020-01-09   5.310000   5.060000   5.150000   5.200000  310707   5.200000   \n",
       "\n",
       "             new_date  new_date2  new_date3  new_date4  new_date5  new_date6  \n",
       "Date                                                                          \n",
       "2007-06-27 2007-06-30 2007-05-31 2007-06-01 2007-05-31 2007-03-31 2006-12-31  \n",
       "2007-06-28 2007-06-30 2007-05-31 2007-06-01 2007-05-31 2007-03-31 2006-12-31  \n",
       "2007-06-29 2007-06-30 2007-05-31 2007-06-01 2007-05-31 2007-03-31 2006-12-31  \n",
       "2007-07-02 2007-07-31 2007-06-30 2007-07-01 2007-06-29 2007-06-30 2006-12-31  \n",
       "2007-07-03 2007-07-31 2007-06-30 2007-07-01 2007-06-29 2007-06-30 2006-12-31  \n",
       "...               ...        ...        ...        ...        ...        ...  \n",
       "2020-01-03 2020-01-31 2019-12-31 2020-01-01 2019-12-31 2019-12-31 2019-12-31  \n",
       "2020-01-06 2020-01-31 2019-12-31 2020-01-01 2019-12-31 2019-12-31 2019-12-31  \n",
       "2020-01-07 2020-01-31 2019-12-31 2020-01-01 2019-12-31 2019-12-31 2019-12-31  \n",
       "2020-01-08 2020-01-31 2019-12-31 2020-01-01 2019-12-31 2019-12-31 2019-12-31  \n",
       "2020-01-09 2020-01-31 2019-12-31 2020-01-01 2019-12-31 2019-12-31 2019-12-31  \n",
       "\n",
       "[3157 rows x 12 columns]"
      ]
     },
     "execution_count": 74,
     "metadata": {},
     "output_type": "execute_result"
    }
   ],
   "source": [
    "stocks[\"new_date6\"] = stocks.index - pd.tseries.offsets.YearEnd()\n",
    "stocks"
   ]
  },
  {
   "cell_type": "code",
   "execution_count": 75,
   "metadata": {},
   "outputs": [
    {
     "data": {
      "text/html": [
       "<div>\n",
       "<style scoped>\n",
       "    .dataframe tbody tr th:only-of-type {\n",
       "        vertical-align: middle;\n",
       "    }\n",
       "\n",
       "    .dataframe tbody tr th {\n",
       "        vertical-align: top;\n",
       "    }\n",
       "\n",
       "    .dataframe thead th {\n",
       "        text-align: right;\n",
       "    }\n",
       "</style>\n",
       "<table border=\"1\" class=\"dataframe\">\n",
       "  <thead>\n",
       "    <tr style=\"text-align: right;\">\n",
       "      <th></th>\n",
       "      <th>High</th>\n",
       "      <th>Low</th>\n",
       "      <th>Open</th>\n",
       "      <th>Close</th>\n",
       "      <th>Volume</th>\n",
       "      <th>Adj Close</th>\n",
       "      <th>new_date</th>\n",
       "      <th>new_date2</th>\n",
       "      <th>new_date3</th>\n",
       "      <th>new_date4</th>\n",
       "      <th>new_date5</th>\n",
       "      <th>new_date6</th>\n",
       "      <th>new_date7</th>\n",
       "    </tr>\n",
       "    <tr>\n",
       "      <th>Date</th>\n",
       "      <th></th>\n",
       "      <th></th>\n",
       "      <th></th>\n",
       "      <th></th>\n",
       "      <th></th>\n",
       "      <th></th>\n",
       "      <th></th>\n",
       "      <th></th>\n",
       "      <th></th>\n",
       "      <th></th>\n",
       "      <th></th>\n",
       "      <th></th>\n",
       "      <th></th>\n",
       "    </tr>\n",
       "  </thead>\n",
       "  <tbody>\n",
       "    <tr>\n",
       "      <td>2007-06-27</td>\n",
       "      <td>24.389999</td>\n",
       "      <td>19.700001</td>\n",
       "      <td>22.000000</td>\n",
       "      <td>23.469999</td>\n",
       "      <td>0</td>\n",
       "      <td>23.469999</td>\n",
       "      <td>2007-06-30</td>\n",
       "      <td>2007-05-31</td>\n",
       "      <td>2007-06-01</td>\n",
       "      <td>2007-05-31</td>\n",
       "      <td>2007-03-31</td>\n",
       "      <td>2006-12-31</td>\n",
       "      <td>2007-12-31</td>\n",
       "    </tr>\n",
       "    <tr>\n",
       "      <td>2007-06-28</td>\n",
       "      <td>26.270000</td>\n",
       "      <td>22.500000</td>\n",
       "      <td>23.889999</td>\n",
       "      <td>25.590000</td>\n",
       "      <td>804300</td>\n",
       "      <td>25.590000</td>\n",
       "      <td>2007-06-30</td>\n",
       "      <td>2007-05-31</td>\n",
       "      <td>2007-06-01</td>\n",
       "      <td>2007-05-31</td>\n",
       "      <td>2007-03-31</td>\n",
       "      <td>2006-12-31</td>\n",
       "      <td>2007-12-31</td>\n",
       "    </tr>\n",
       "    <tr>\n",
       "      <td>2007-06-29</td>\n",
       "      <td>26.200001</td>\n",
       "      <td>22.260000</td>\n",
       "      <td>26.200001</td>\n",
       "      <td>23.150000</td>\n",
       "      <td>604000</td>\n",
       "      <td>23.150000</td>\n",
       "      <td>2007-06-30</td>\n",
       "      <td>2007-05-31</td>\n",
       "      <td>2007-06-01</td>\n",
       "      <td>2007-05-31</td>\n",
       "      <td>2007-03-31</td>\n",
       "      <td>2006-12-31</td>\n",
       "      <td>2007-12-31</td>\n",
       "    </tr>\n",
       "    <tr>\n",
       "      <td>2007-07-02</td>\n",
       "      <td>23.490000</td>\n",
       "      <td>22.000000</td>\n",
       "      <td>23.490000</td>\n",
       "      <td>22.410000</td>\n",
       "      <td>324100</td>\n",
       "      <td>22.410000</td>\n",
       "      <td>2007-07-31</td>\n",
       "      <td>2007-06-30</td>\n",
       "      <td>2007-07-01</td>\n",
       "      <td>2007-06-29</td>\n",
       "      <td>2007-06-30</td>\n",
       "      <td>2006-12-31</td>\n",
       "      <td>2007-12-31</td>\n",
       "    </tr>\n",
       "    <tr>\n",
       "      <td>2007-07-03</td>\n",
       "      <td>22.770000</td>\n",
       "      <td>22.000000</td>\n",
       "      <td>22.770000</td>\n",
       "      <td>22.389999</td>\n",
       "      <td>86300</td>\n",
       "      <td>22.389999</td>\n",
       "      <td>2007-07-31</td>\n",
       "      <td>2007-06-30</td>\n",
       "      <td>2007-07-01</td>\n",
       "      <td>2007-06-29</td>\n",
       "      <td>2007-06-30</td>\n",
       "      <td>2006-12-31</td>\n",
       "      <td>2007-12-31</td>\n",
       "    </tr>\n",
       "    <tr>\n",
       "      <td>...</td>\n",
       "      <td>...</td>\n",
       "      <td>...</td>\n",
       "      <td>...</td>\n",
       "      <td>...</td>\n",
       "      <td>...</td>\n",
       "      <td>...</td>\n",
       "      <td>...</td>\n",
       "      <td>...</td>\n",
       "      <td>...</td>\n",
       "      <td>...</td>\n",
       "      <td>...</td>\n",
       "      <td>...</td>\n",
       "      <td>...</td>\n",
       "    </tr>\n",
       "    <tr>\n",
       "      <td>2020-01-03</td>\n",
       "      <td>5.000000</td>\n",
       "      <td>4.760000</td>\n",
       "      <td>4.760000</td>\n",
       "      <td>4.900000</td>\n",
       "      <td>383700</td>\n",
       "      <td>4.900000</td>\n",
       "      <td>2020-01-31</td>\n",
       "      <td>2019-12-31</td>\n",
       "      <td>2020-01-01</td>\n",
       "      <td>2019-12-31</td>\n",
       "      <td>2019-12-31</td>\n",
       "      <td>2019-12-31</td>\n",
       "      <td>2020-12-31</td>\n",
       "    </tr>\n",
       "    <tr>\n",
       "      <td>2020-01-06</td>\n",
       "      <td>5.000000</td>\n",
       "      <td>4.790000</td>\n",
       "      <td>4.900000</td>\n",
       "      <td>4.950000</td>\n",
       "      <td>466600</td>\n",
       "      <td>4.950000</td>\n",
       "      <td>2020-01-31</td>\n",
       "      <td>2019-12-31</td>\n",
       "      <td>2020-01-01</td>\n",
       "      <td>2019-12-31</td>\n",
       "      <td>2019-12-31</td>\n",
       "      <td>2019-12-31</td>\n",
       "      <td>2020-12-31</td>\n",
       "    </tr>\n",
       "    <tr>\n",
       "      <td>2020-01-07</td>\n",
       "      <td>5.060000</td>\n",
       "      <td>4.900000</td>\n",
       "      <td>4.950000</td>\n",
       "      <td>4.970000</td>\n",
       "      <td>320200</td>\n",
       "      <td>4.970000</td>\n",
       "      <td>2020-01-31</td>\n",
       "      <td>2019-12-31</td>\n",
       "      <td>2020-01-01</td>\n",
       "      <td>2019-12-31</td>\n",
       "      <td>2019-12-31</td>\n",
       "      <td>2019-12-31</td>\n",
       "      <td>2020-12-31</td>\n",
       "    </tr>\n",
       "    <tr>\n",
       "      <td>2020-01-08</td>\n",
       "      <td>5.220000</td>\n",
       "      <td>4.910000</td>\n",
       "      <td>4.960000</td>\n",
       "      <td>5.130000</td>\n",
       "      <td>486200</td>\n",
       "      <td>5.130000</td>\n",
       "      <td>2020-01-31</td>\n",
       "      <td>2019-12-31</td>\n",
       "      <td>2020-01-01</td>\n",
       "      <td>2019-12-31</td>\n",
       "      <td>2019-12-31</td>\n",
       "      <td>2019-12-31</td>\n",
       "      <td>2020-12-31</td>\n",
       "    </tr>\n",
       "    <tr>\n",
       "      <td>2020-01-09</td>\n",
       "      <td>5.310000</td>\n",
       "      <td>5.060000</td>\n",
       "      <td>5.150000</td>\n",
       "      <td>5.200000</td>\n",
       "      <td>310707</td>\n",
       "      <td>5.200000</td>\n",
       "      <td>2020-01-31</td>\n",
       "      <td>2019-12-31</td>\n",
       "      <td>2020-01-01</td>\n",
       "      <td>2019-12-31</td>\n",
       "      <td>2019-12-31</td>\n",
       "      <td>2019-12-31</td>\n",
       "      <td>2020-12-31</td>\n",
       "    </tr>\n",
       "  </tbody>\n",
       "</table>\n",
       "<p>3157 rows × 13 columns</p>\n",
       "</div>"
      ],
      "text/plain": [
       "                 High        Low       Open      Close  Volume  Adj Close  \\\n",
       "Date                                                                        \n",
       "2007-06-27  24.389999  19.700001  22.000000  23.469999       0  23.469999   \n",
       "2007-06-28  26.270000  22.500000  23.889999  25.590000  804300  25.590000   \n",
       "2007-06-29  26.200001  22.260000  26.200001  23.150000  604000  23.150000   \n",
       "2007-07-02  23.490000  22.000000  23.490000  22.410000  324100  22.410000   \n",
       "2007-07-03  22.770000  22.000000  22.770000  22.389999   86300  22.389999   \n",
       "...               ...        ...        ...        ...     ...        ...   \n",
       "2020-01-03   5.000000   4.760000   4.760000   4.900000  383700   4.900000   \n",
       "2020-01-06   5.000000   4.790000   4.900000   4.950000  466600   4.950000   \n",
       "2020-01-07   5.060000   4.900000   4.950000   4.970000  320200   4.970000   \n",
       "2020-01-08   5.220000   4.910000   4.960000   5.130000  486200   5.130000   \n",
       "2020-01-09   5.310000   5.060000   5.150000   5.200000  310707   5.200000   \n",
       "\n",
       "             new_date  new_date2  new_date3  new_date4  new_date5  new_date6  \\\n",
       "Date                                                                           \n",
       "2007-06-27 2007-06-30 2007-05-31 2007-06-01 2007-05-31 2007-03-31 2006-12-31   \n",
       "2007-06-28 2007-06-30 2007-05-31 2007-06-01 2007-05-31 2007-03-31 2006-12-31   \n",
       "2007-06-29 2007-06-30 2007-05-31 2007-06-01 2007-05-31 2007-03-31 2006-12-31   \n",
       "2007-07-02 2007-07-31 2007-06-30 2007-07-01 2007-06-29 2007-06-30 2006-12-31   \n",
       "2007-07-03 2007-07-31 2007-06-30 2007-07-01 2007-06-29 2007-06-30 2006-12-31   \n",
       "...               ...        ...        ...        ...        ...        ...   \n",
       "2020-01-03 2020-01-31 2019-12-31 2020-01-01 2019-12-31 2019-12-31 2019-12-31   \n",
       "2020-01-06 2020-01-31 2019-12-31 2020-01-01 2019-12-31 2019-12-31 2019-12-31   \n",
       "2020-01-07 2020-01-31 2019-12-31 2020-01-01 2019-12-31 2019-12-31 2019-12-31   \n",
       "2020-01-08 2020-01-31 2019-12-31 2020-01-01 2019-12-31 2019-12-31 2019-12-31   \n",
       "2020-01-09 2020-01-31 2019-12-31 2020-01-01 2019-12-31 2019-12-31 2019-12-31   \n",
       "\n",
       "            new_date7  \n",
       "Date                   \n",
       "2007-06-27 2007-12-31  \n",
       "2007-06-28 2007-12-31  \n",
       "2007-06-29 2007-12-31  \n",
       "2007-07-02 2007-12-31  \n",
       "2007-07-03 2007-12-31  \n",
       "...               ...  \n",
       "2020-01-03 2020-12-31  \n",
       "2020-01-06 2020-12-31  \n",
       "2020-01-07 2020-12-31  \n",
       "2020-01-08 2020-12-31  \n",
       "2020-01-09 2020-12-31  \n",
       "\n",
       "[3157 rows x 13 columns]"
      ]
     },
     "execution_count": 75,
     "metadata": {},
     "output_type": "execute_result"
    }
   ],
   "source": [
    "stocks[\"new_date7\"] = stocks.index + pd.tseries.offsets.YearEnd()\n",
    "stocks"
   ]
  },
  {
   "cell_type": "markdown",
   "metadata": {},
   "source": [
    "<a id='15'></a>\n",
    "### 15. The pandas `Timedelta` Object"
   ]
  },
  {
   "cell_type": "code",
   "execution_count": 76,
   "metadata": {},
   "outputs": [
    {
     "data": {
      "text/plain": [
       "Timestamp('1984-06-27 00:00:00')"
      ]
     },
     "execution_count": 76,
     "metadata": {},
     "output_type": "execute_result"
    }
   ],
   "source": [
    "time_a = pd.Timestamp(\"1984-06-27\")\n",
    "time_a"
   ]
  },
  {
   "cell_type": "code",
   "execution_count": 77,
   "metadata": {},
   "outputs": [
    {
     "data": {
      "text/plain": [
       "Timestamp('2020-01-09 15:44:04.463449')"
      ]
     },
     "execution_count": 77,
     "metadata": {},
     "output_type": "execute_result"
    }
   ],
   "source": [
    "time_b = pd.Timestamp.now()\n",
    "time_b"
   ]
  },
  {
   "cell_type": "code",
   "execution_count": 78,
   "metadata": {},
   "outputs": [
    {
     "data": {
      "text/plain": [
       "Timedelta('12979 days 15:44:04.463449')"
      ]
     },
     "execution_count": 78,
     "metadata": {},
     "output_type": "execute_result"
    }
   ],
   "source": [
    "time_b - time_a"
   ]
  },
  {
   "cell_type": "code",
   "execution_count": 79,
   "metadata": {},
   "outputs": [
    {
     "data": {
      "text/plain": [
       "Timedelta('-12980 days +08:15:55.536551')"
      ]
     },
     "execution_count": 79,
     "metadata": {},
     "output_type": "execute_result"
    }
   ],
   "source": [
    "time_a - time_b"
   ]
  },
  {
   "cell_type": "code",
   "execution_count": 80,
   "metadata": {},
   "outputs": [
    {
     "data": {
      "text/plain": [
       "Timedelta('3 days 00:00:00')"
      ]
     },
     "execution_count": 80,
     "metadata": {},
     "output_type": "execute_result"
    },
    {
     "data": {
      "text/plain": [
       "Timedelta('3 days 14:45:00')"
      ]
     },
     "execution_count": 80,
     "metadata": {},
     "output_type": "execute_result"
    },
    {
     "data": {
      "text/plain": [
       "Timedelta('0 days 00:05:00')"
      ]
     },
     "execution_count": 80,
     "metadata": {},
     "output_type": "execute_result"
    },
    {
     "data": {
      "text/plain": [
       "Timedelta('14 days 06:12:49')"
      ]
     },
     "execution_count": 80,
     "metadata": {},
     "output_type": "execute_result"
    }
   ],
   "source": [
    "pd.Timedelta(days=3)\n",
    "pd.Timedelta(days=3, hours=14, minutes=45) # cannot accept years\n",
    "pd.Timedelta(\"5 minutes\")\n",
    "pd.Timedelta(\"14 days 6 hours 12 minutes 49 seconds\") # cannot accept years/weeks"
   ]
  },
  {
   "cell_type": "markdown",
   "metadata": {},
   "source": [
    "<a id='16'></a>\n",
    "### 16. Timedeltas in a Dataset"
   ]
  },
  {
   "cell_type": "code",
   "execution_count": 81,
   "metadata": {},
   "outputs": [
    {
     "data": {
      "text/html": [
       "<div>\n",
       "<style scoped>\n",
       "    .dataframe tbody tr th:only-of-type {\n",
       "        vertical-align: middle;\n",
       "    }\n",
       "\n",
       "    .dataframe tbody tr th {\n",
       "        vertical-align: top;\n",
       "    }\n",
       "\n",
       "    .dataframe thead th {\n",
       "        text-align: right;\n",
       "    }\n",
       "</style>\n",
       "<table border=\"1\" class=\"dataframe\">\n",
       "  <thead>\n",
       "    <tr style=\"text-align: right;\">\n",
       "      <th></th>\n",
       "      <th>order_date</th>\n",
       "      <th>delivery_date</th>\n",
       "    </tr>\n",
       "    <tr>\n",
       "      <th>ID</th>\n",
       "      <th></th>\n",
       "      <th></th>\n",
       "    </tr>\n",
       "  </thead>\n",
       "  <tbody>\n",
       "    <tr>\n",
       "      <td>1</td>\n",
       "      <td>1998-05-24</td>\n",
       "      <td>1999-02-05</td>\n",
       "    </tr>\n",
       "    <tr>\n",
       "      <td>2</td>\n",
       "      <td>1992-04-22</td>\n",
       "      <td>1998-03-06</td>\n",
       "    </tr>\n",
       "    <tr>\n",
       "      <td>4</td>\n",
       "      <td>1991-02-10</td>\n",
       "      <td>1992-08-26</td>\n",
       "    </tr>\n",
       "  </tbody>\n",
       "</table>\n",
       "</div>"
      ],
      "text/plain": [
       "   order_date delivery_date\n",
       "ID                         \n",
       "1  1998-05-24    1999-02-05\n",
       "2  1992-04-22    1998-03-06\n",
       "4  1991-02-10    1992-08-26"
      ]
     },
     "execution_count": 81,
     "metadata": {},
     "output_type": "execute_result"
    }
   ],
   "source": [
    "shipping = pd.read_csv(\"ecommerce.csv\", index_col=\"ID\", \n",
    "                       parse_dates=[\"order_date\", \"delivery_date\"])\n",
    "shipping.head(n=3)"
   ]
  },
  {
   "cell_type": "code",
   "execution_count": 82,
   "metadata": {},
   "outputs": [
    {
     "data": {
      "text/html": [
       "<div>\n",
       "<style scoped>\n",
       "    .dataframe tbody tr th:only-of-type {\n",
       "        vertical-align: middle;\n",
       "    }\n",
       "\n",
       "    .dataframe tbody tr th {\n",
       "        vertical-align: top;\n",
       "    }\n",
       "\n",
       "    .dataframe thead th {\n",
       "        text-align: right;\n",
       "    }\n",
       "</style>\n",
       "<table border=\"1\" class=\"dataframe\">\n",
       "  <thead>\n",
       "    <tr style=\"text-align: right;\">\n",
       "      <th></th>\n",
       "      <th>order_date</th>\n",
       "      <th>delivery_date</th>\n",
       "      <th>delivery_time</th>\n",
       "    </tr>\n",
       "    <tr>\n",
       "      <th>ID</th>\n",
       "      <th></th>\n",
       "      <th></th>\n",
       "      <th></th>\n",
       "    </tr>\n",
       "  </thead>\n",
       "  <tbody>\n",
       "    <tr>\n",
       "      <td>1</td>\n",
       "      <td>1998-05-24</td>\n",
       "      <td>1999-02-05</td>\n",
       "      <td>257 days</td>\n",
       "    </tr>\n",
       "    <tr>\n",
       "      <td>2</td>\n",
       "      <td>1992-04-22</td>\n",
       "      <td>1998-03-06</td>\n",
       "      <td>2144 days</td>\n",
       "    </tr>\n",
       "    <tr>\n",
       "      <td>4</td>\n",
       "      <td>1991-02-10</td>\n",
       "      <td>1992-08-26</td>\n",
       "      <td>563 days</td>\n",
       "    </tr>\n",
       "  </tbody>\n",
       "</table>\n",
       "</div>"
      ],
      "text/plain": [
       "   order_date delivery_date delivery_time\n",
       "ID                                       \n",
       "1  1998-05-24    1999-02-05      257 days\n",
       "2  1992-04-22    1998-03-06     2144 days\n",
       "4  1991-02-10    1992-08-26      563 days"
      ]
     },
     "execution_count": 82,
     "metadata": {},
     "output_type": "execute_result"
    }
   ],
   "source": [
    "shipping[\"delivery_time\"] = shipping[\"delivery_date\"] - shipping[\"order_date\"]\n",
    "shipping.head(n=3)"
   ]
  },
  {
   "cell_type": "code",
   "execution_count": 83,
   "metadata": {},
   "outputs": [
    {
     "data": {
      "text/html": [
       "<div>\n",
       "<style scoped>\n",
       "    .dataframe tbody tr th:only-of-type {\n",
       "        vertical-align: middle;\n",
       "    }\n",
       "\n",
       "    .dataframe tbody tr th {\n",
       "        vertical-align: top;\n",
       "    }\n",
       "\n",
       "    .dataframe thead th {\n",
       "        text-align: right;\n",
       "    }\n",
       "</style>\n",
       "<table border=\"1\" class=\"dataframe\">\n",
       "  <thead>\n",
       "    <tr style=\"text-align: right;\">\n",
       "      <th></th>\n",
       "      <th>order_date</th>\n",
       "      <th>delivery_date</th>\n",
       "      <th>delivery_time</th>\n",
       "      <th>twice as long</th>\n",
       "    </tr>\n",
       "    <tr>\n",
       "      <th>ID</th>\n",
       "      <th></th>\n",
       "      <th></th>\n",
       "      <th></th>\n",
       "      <th></th>\n",
       "    </tr>\n",
       "  </thead>\n",
       "  <tbody>\n",
       "    <tr>\n",
       "      <td>1</td>\n",
       "      <td>1998-05-24</td>\n",
       "      <td>1999-02-05</td>\n",
       "      <td>257 days</td>\n",
       "      <td>1999-10-20</td>\n",
       "    </tr>\n",
       "    <tr>\n",
       "      <td>2</td>\n",
       "      <td>1992-04-22</td>\n",
       "      <td>1998-03-06</td>\n",
       "      <td>2144 days</td>\n",
       "      <td>2004-01-18</td>\n",
       "    </tr>\n",
       "    <tr>\n",
       "      <td>4</td>\n",
       "      <td>1991-02-10</td>\n",
       "      <td>1992-08-26</td>\n",
       "      <td>563 days</td>\n",
       "      <td>1994-03-12</td>\n",
       "    </tr>\n",
       "  </tbody>\n",
       "</table>\n",
       "</div>"
      ],
      "text/plain": [
       "   order_date delivery_date delivery_time twice as long\n",
       "ID                                                     \n",
       "1  1998-05-24    1999-02-05      257 days    1999-10-20\n",
       "2  1992-04-22    1998-03-06     2144 days    2004-01-18\n",
       "4  1991-02-10    1992-08-26      563 days    1994-03-12"
      ]
     },
     "execution_count": 83,
     "metadata": {},
     "output_type": "execute_result"
    },
    {
     "name": "stdout",
     "output_type": "stream",
     "text": [
      "<class 'pandas.core.frame.DataFrame'>\n",
      "Int64Index: 501 entries, 1 to 997\n",
      "Data columns (total 4 columns):\n",
      "order_date       501 non-null datetime64[ns]\n",
      "delivery_date    501 non-null datetime64[ns]\n",
      "delivery_time    501 non-null timedelta64[ns]\n",
      "twice as long    501 non-null datetime64[ns]\n",
      "dtypes: datetime64[ns](3), timedelta64[ns](1)\n",
      "memory usage: 19.6 KB\n"
     ]
    }
   ],
   "source": [
    "shipping[\"twice as long\"] = shipping[\"delivery_date\"] + shipping[\"delivery_time\"]\n",
    "shipping.head(n=3)\n",
    "shipping.info()"
   ]
  },
  {
   "cell_type": "code",
   "execution_count": 84,
   "metadata": {},
   "outputs": [
    {
     "data": {
      "text/html": [
       "<div>\n",
       "<style scoped>\n",
       "    .dataframe tbody tr th:only-of-type {\n",
       "        vertical-align: middle;\n",
       "    }\n",
       "\n",
       "    .dataframe tbody tr th {\n",
       "        vertical-align: top;\n",
       "    }\n",
       "\n",
       "    .dataframe thead th {\n",
       "        text-align: right;\n",
       "    }\n",
       "</style>\n",
       "<table border=\"1\" class=\"dataframe\">\n",
       "  <thead>\n",
       "    <tr style=\"text-align: right;\">\n",
       "      <th></th>\n",
       "      <th>order_date</th>\n",
       "      <th>delivery_date</th>\n",
       "      <th>delivery_time</th>\n",
       "      <th>twice as long</th>\n",
       "    </tr>\n",
       "    <tr>\n",
       "      <th>ID</th>\n",
       "      <th></th>\n",
       "      <th></th>\n",
       "      <th></th>\n",
       "      <th></th>\n",
       "    </tr>\n",
       "  </thead>\n",
       "  <tbody>\n",
       "    <tr>\n",
       "      <td>884</td>\n",
       "      <td>1990-01-20</td>\n",
       "      <td>1999-11-12</td>\n",
       "      <td>3583 days</td>\n",
       "      <td>2009-09-03</td>\n",
       "    </tr>\n",
       "    <tr>\n",
       "      <td>314</td>\n",
       "      <td>1990-03-07</td>\n",
       "      <td>1999-12-25</td>\n",
       "      <td>3580 days</td>\n",
       "      <td>2009-10-13</td>\n",
       "    </tr>\n",
       "    <tr>\n",
       "      <td>904</td>\n",
       "      <td>1990-02-13</td>\n",
       "      <td>1999-11-15</td>\n",
       "      <td>3562 days</td>\n",
       "      <td>2009-08-16</td>\n",
       "    </tr>\n",
       "    <tr>\n",
       "      <td>130</td>\n",
       "      <td>1990-04-02</td>\n",
       "      <td>1999-08-16</td>\n",
       "      <td>3423 days</td>\n",
       "      <td>2008-12-29</td>\n",
       "    </tr>\n",
       "    <tr>\n",
       "      <td>331</td>\n",
       "      <td>1990-09-18</td>\n",
       "      <td>1999-12-19</td>\n",
       "      <td>3379 days</td>\n",
       "      <td>2009-03-20</td>\n",
       "    </tr>\n",
       "    <tr>\n",
       "      <td>...</td>\n",
       "      <td>...</td>\n",
       "      <td>...</td>\n",
       "      <td>...</td>\n",
       "      <td>...</td>\n",
       "    </tr>\n",
       "    <tr>\n",
       "      <td>326</td>\n",
       "      <td>1998-05-12</td>\n",
       "      <td>1999-05-29</td>\n",
       "      <td>382 days</td>\n",
       "      <td>2000-06-14</td>\n",
       "    </tr>\n",
       "    <tr>\n",
       "      <td>445</td>\n",
       "      <td>1993-02-11</td>\n",
       "      <td>1994-02-24</td>\n",
       "      <td>378 days</td>\n",
       "      <td>1995-03-09</td>\n",
       "    </tr>\n",
       "    <tr>\n",
       "      <td>76</td>\n",
       "      <td>1997-05-26</td>\n",
       "      <td>1998-06-05</td>\n",
       "      <td>375 days</td>\n",
       "      <td>1999-06-15</td>\n",
       "    </tr>\n",
       "    <tr>\n",
       "      <td>457</td>\n",
       "      <td>1991-06-17</td>\n",
       "      <td>1992-06-18</td>\n",
       "      <td>367 days</td>\n",
       "      <td>1993-06-20</td>\n",
       "    </tr>\n",
       "    <tr>\n",
       "      <td>11</td>\n",
       "      <td>1996-07-12</td>\n",
       "      <td>1997-07-14</td>\n",
       "      <td>367 days</td>\n",
       "      <td>1998-07-16</td>\n",
       "    </tr>\n",
       "  </tbody>\n",
       "</table>\n",
       "<p>394 rows × 4 columns</p>\n",
       "</div>"
      ],
      "text/plain": [
       "    order_date delivery_date delivery_time twice as long\n",
       "ID                                                      \n",
       "884 1990-01-20    1999-11-12     3583 days    2009-09-03\n",
       "314 1990-03-07    1999-12-25     3580 days    2009-10-13\n",
       "904 1990-02-13    1999-11-15     3562 days    2009-08-16\n",
       "130 1990-04-02    1999-08-16     3423 days    2008-12-29\n",
       "331 1990-09-18    1999-12-19     3379 days    2009-03-20\n",
       "..         ...           ...           ...           ...\n",
       "326 1998-05-12    1999-05-29      382 days    2000-06-14\n",
       "445 1993-02-11    1994-02-24      378 days    1995-03-09\n",
       "76  1997-05-26    1998-06-05      375 days    1999-06-15\n",
       "457 1991-06-17    1992-06-18      367 days    1993-06-20\n",
       "11  1996-07-12    1997-07-14      367 days    1998-07-16\n",
       "\n",
       "[394 rows x 4 columns]"
      ]
     },
     "execution_count": 84,
     "metadata": {},
     "output_type": "execute_result"
    }
   ],
   "source": [
    "shipping[shipping[\"delivery_time\"] > \"365 days\"].sort_values(\"delivery_time\", ascending=False)"
   ]
  },
  {
   "cell_type": "code",
   "execution_count": 85,
   "metadata": {},
   "outputs": [
    {
     "data": {
      "text/html": [
       "<div>\n",
       "<style scoped>\n",
       "    .dataframe tbody tr th:only-of-type {\n",
       "        vertical-align: middle;\n",
       "    }\n",
       "\n",
       "    .dataframe tbody tr th {\n",
       "        vertical-align: top;\n",
       "    }\n",
       "\n",
       "    .dataframe thead th {\n",
       "        text-align: right;\n",
       "    }\n",
       "</style>\n",
       "<table border=\"1\" class=\"dataframe\">\n",
       "  <thead>\n",
       "    <tr style=\"text-align: right;\">\n",
       "      <th></th>\n",
       "      <th>order_date</th>\n",
       "      <th>delivery_date</th>\n",
       "      <th>delivery_time</th>\n",
       "      <th>twice as long</th>\n",
       "    </tr>\n",
       "    <tr>\n",
       "      <th>ID</th>\n",
       "      <th></th>\n",
       "      <th></th>\n",
       "      <th></th>\n",
       "      <th></th>\n",
       "    </tr>\n",
       "  </thead>\n",
       "  <tbody>\n",
       "    <tr>\n",
       "      <td>884</td>\n",
       "      <td>1990-01-20</td>\n",
       "      <td>1999-11-12</td>\n",
       "      <td>3583 days</td>\n",
       "      <td>2009-09-03</td>\n",
       "    </tr>\n",
       "  </tbody>\n",
       "</table>\n",
       "</div>"
      ],
      "text/plain": [
       "    order_date delivery_date delivery_time twice as long\n",
       "ID                                                      \n",
       "884 1990-01-20    1999-11-12     3583 days    2009-09-03"
      ]
     },
     "execution_count": 85,
     "metadata": {},
     "output_type": "execute_result"
    }
   ],
   "source": [
    "shipping[shipping[\"delivery_time\"] == \"3583 days\"].sort_values(\"delivery_time\", ascending=False)"
   ]
  },
  {
   "cell_type": "code",
   "execution_count": 86,
   "metadata": {},
   "outputs": [
    {
     "data": {
      "text/plain": [
       "Timedelta('3583 days 00:00:00')"
      ]
     },
     "execution_count": 86,
     "metadata": {},
     "output_type": "execute_result"
    },
    {
     "data": {
      "text/plain": [
       "Timedelta('8 days 00:00:00')"
      ]
     },
     "execution_count": 86,
     "metadata": {},
     "output_type": "execute_result"
    }
   ],
   "source": [
    "shipping[\"delivery_time\"].max()\n",
    "shipping[\"delivery_time\"].min()"
   ]
  }
 ],
 "metadata": {
  "kernel_info": {
   "name": "python3"
  },
  "kernelspec": {
   "display_name": "Python 3",
   "language": "python",
   "name": "python3"
  },
  "language_info": {
   "codemirror_mode": {
    "name": "ipython",
    "version": 3
   },
   "file_extension": ".py",
   "mimetype": "text/x-python",
   "name": "python",
   "nbconvert_exporter": "python",
   "pygments_lexer": "ipython3",
   "version": "3.7.4"
  },
  "nteract": {
   "version": "0.15.0"
  },
  "toc": {
   "base_numbering": 1,
   "nav_menu": {},
   "number_sections": false,
   "sideBar": true,
   "skip_h1_title": false,
   "title_cell": "Table of Contents",
   "title_sidebar": "Contents",
   "toc_cell": false,
   "toc_position": {},
   "toc_section_display": true,
   "toc_window_display": false
  },
  "varInspector": {
   "cols": {
    "lenName": 16,
    "lenType": 16,
    "lenVar": 40
   },
   "kernels_config": {
    "python": {
     "delete_cmd_postfix": "",
     "delete_cmd_prefix": "del ",
     "library": "var_list.py",
     "varRefreshCmd": "print(var_dic_list())"
    },
    "r": {
     "delete_cmd_postfix": ") ",
     "delete_cmd_prefix": "rm(",
     "library": "var_list.r",
     "varRefreshCmd": "cat(var_dic_list()) "
    }
   },
   "types_to_exclude": [
    "module",
    "function",
    "builtin_function_or_method",
    "instance",
    "_Feature"
   ],
   "window_display": false
  }
 },
 "nbformat": 4,
 "nbformat_minor": 2
}
